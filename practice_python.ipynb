{
 "cells": [
  {
   "cell_type": "markdown",
   "id": "7a691f97-9c26-4063-afa1-28a6ac40ce56",
   "metadata": {},
   "source": [
    "# Heading1 Selected Markdown in Dropdown"
   ]
  },
  {
   "cell_type": "markdown",
   "id": "80e2d8f5-9cb2-4b91-923c-f2dd3467f952",
   "metadata": {},
   "source": [
    "## Heading2"
   ]
  },
  {
   "cell_type": "markdown",
   "id": "069a5cee-dfe4-4d54-b633-9bd09ab3a6a9",
   "metadata": {},
   "source": [
    "### Heading3"
   ]
  },
  {
   "cell_type": "markdown",
   "id": "6cdc5276-2ff1-4d1e-9d4e-8462a8cb74be",
   "metadata": {},
   "source": [
    "#### Heading4"
   ]
  },
  {
   "cell_type": "markdown",
   "id": "278ab14a-ab02-4bea-93e1-1bdf58f30853",
   "metadata": {},
   "source": [
    "# Intoduction to Python"
   ]
  },
  {
   "cell_type": "code",
   "execution_count": 2,
   "id": "43b6b6fb-6af6-4c7f-8935-920162481889",
   "metadata": {},
   "outputs": [
    {
     "data": {
      "text/plain": [
       "3"
      ]
     },
     "execution_count": 2,
     "metadata": {},
     "output_type": "execute_result"
    }
   ],
   "source": [
    "num=3\n",
    "num"
   ]
  },
  {
   "cell_type": "code",
   "execution_count": 3,
   "id": "3e823fc2-caef-4e16-be18-f87fabd5d679",
   "metadata": {},
   "outputs": [
    {
     "data": {
      "text/plain": [
       "4"
      ]
     },
     "execution_count": 3,
     "metadata": {},
     "output_type": "execute_result"
    }
   ],
   "source": [
    "num=4\n",
    "num"
   ]
  },
  {
   "cell_type": "code",
   "execution_count": 4,
   "id": "311cb9e8-a4b2-4201-8e99-6acc0a73d430",
   "metadata": {},
   "outputs": [
    {
     "data": {
      "text/plain": [
       "4"
      ]
     },
     "execution_count": 4,
     "metadata": {},
     "output_type": "execute_result"
    }
   ],
   "source": [
    "num"
   ]
  },
  {
   "cell_type": "code",
   "execution_count": 11,
   "id": "d8481aa1-a873-4b38-b6c2-50fb26d6ad68",
   "metadata": {},
   "outputs": [],
   "source": [
    "x=y=z=5"
   ]
  },
  {
   "cell_type": "code",
   "execution_count": 12,
   "id": "2bbaea26-9760-479a-b7a3-a4c91491e8d2",
   "metadata": {},
   "outputs": [
    {
     "data": {
      "text/plain": [
       "5"
      ]
     },
     "execution_count": 12,
     "metadata": {},
     "output_type": "execute_result"
    }
   ],
   "source": [
    "x"
   ]
  },
  {
   "cell_type": "code",
   "execution_count": 13,
   "id": "6be7dbee-5e4f-4896-be79-f08bb2d19399",
   "metadata": {},
   "outputs": [
    {
     "data": {
      "text/plain": [
       "5"
      ]
     },
     "execution_count": 13,
     "metadata": {},
     "output_type": "execute_result"
    }
   ],
   "source": [
    "y"
   ]
  },
  {
   "cell_type": "code",
   "execution_count": 14,
   "id": "e523206e-9b26-4e7b-b525-08c49a844be6",
   "metadata": {},
   "outputs": [
    {
     "data": {
      "text/plain": [
       "5"
      ]
     },
     "execution_count": 14,
     "metadata": {},
     "output_type": "execute_result"
    }
   ],
   "source": [
    "z"
   ]
  },
  {
   "cell_type": "code",
   "execution_count": 8,
   "id": "5d9035bf-fcfa-439a-b191-4473b56a931d",
   "metadata": {},
   "outputs": [
    {
     "name": "stdout",
     "output_type": "stream",
     "text": [
      "hello...\n"
     ]
    }
   ],
   "source": [
    "# This is single line comment in python\n",
    "print(\"hello...\")"
   ]
  },
  {
   "cell_type": "code",
   "execution_count": 10,
   "id": "2137a6da-9769-4ccb-a193-da70c6daa870",
   "metadata": {},
   "outputs": [
    {
     "data": {
      "text/plain": [
       "' # within a string'"
      ]
     },
     "execution_count": 10,
     "metadata": {},
     "output_type": "execute_result"
    }
   ],
   "source": [
    "\" # within a string\""
   ]
  },
  {
   "cell_type": "code",
   "execution_count": 6,
   "id": "03a1d62e-0bdb-4c73-9095-0309a34326cb",
   "metadata": {},
   "outputs": [
    {
     "data": {
      "text/plain": [
       "' This is Doc String in Python '"
      ]
     },
     "execution_count": 6,
     "metadata": {},
     "output_type": "execute_result"
    }
   ],
   "source": [
    "''' This is Doc String in Python '''"
   ]
  },
  {
   "cell_type": "code",
   "execution_count": 15,
   "id": "986eca10-b6a1-4d10-a00a-be603e1b32f3",
   "metadata": {},
   "outputs": [],
   "source": [
    "a=\"Great Learning\""
   ]
  },
  {
   "cell_type": "code",
   "execution_count": 16,
   "id": "a9c5fb95-2c4c-4b8a-a210-d7b44015caa2",
   "metadata": {},
   "outputs": [
    {
     "data": {
      "text/plain": [
       "'Great Learning'"
      ]
     },
     "execution_count": 16,
     "metadata": {},
     "output_type": "execute_result"
    }
   ],
   "source": [
    "a"
   ]
  },
  {
   "cell_type": "code",
   "execution_count": 17,
   "id": "7b02fc01-4d73-4e0a-9de9-1efc40c7ff56",
   "metadata": {},
   "outputs": [
    {
     "ename": "NameError",
     "evalue": "name 'b' is not defined",
     "output_type": "error",
     "traceback": [
      "\u001b[1;31m---------------------------------------------------------------------------\u001b[0m",
      "\u001b[1;31mNameError\u001b[0m                                 Traceback (most recent call last)",
      "Cell \u001b[1;32mIn[17], line 1\u001b[0m\n\u001b[1;32m----> 1\u001b[0m b\n",
      "\u001b[1;31mNameError\u001b[0m: name 'b' is not defined"
     ]
    }
   ],
   "source": [
    "b"
   ]
  },
  {
   "cell_type": "code",
   "execution_count": 19,
   "id": "b6b96b1f-371e-43e8-ae96-de1f250e9047",
   "metadata": {},
   "outputs": [
    {
     "ename": "NameError",
     "evalue": "name 'GreatLearning' is not defined",
     "output_type": "error",
     "traceback": [
      "\u001b[1;31m---------------------------------------------------------------------------\u001b[0m",
      "\u001b[1;31mNameError\u001b[0m                                 Traceback (most recent call last)",
      "Cell \u001b[1;32mIn[19], line 1\u001b[0m\n\u001b[1;32m----> 1\u001b[0m c\u001b[38;5;241m=\u001b[39m GreatLearning\n",
      "\u001b[1;31mNameError\u001b[0m: name 'GreatLearning' is not defined"
     ]
    }
   ],
   "source": [
    "c= GreatLearning"
   ]
  },
  {
   "cell_type": "code",
   "execution_count": 20,
   "id": "4fa09712-c563-4f91-afbe-c73442829066",
   "metadata": {},
   "outputs": [],
   "source": [
    "a,b,c=4,5,\"Great Learning\""
   ]
  },
  {
   "cell_type": "code",
   "execution_count": 23,
   "id": "bfab659b-c424-43b8-94c5-1b1158d1f836",
   "metadata": {},
   "outputs": [
    {
     "data": {
      "text/plain": [
       "'Great Learning'"
      ]
     },
     "execution_count": 23,
     "metadata": {},
     "output_type": "execute_result"
    }
   ],
   "source": [
    "c"
   ]
  },
  {
   "cell_type": "code",
   "execution_count": 24,
   "id": "e7a94c9e-5ef4-468e-86f8-661b5a817986",
   "metadata": {},
   "outputs": [
    {
     "data": {
      "text/plain": [
       "5"
      ]
     },
     "execution_count": 24,
     "metadata": {},
     "output_type": "execute_result"
    }
   ],
   "source": [
    "a\n",
    "b"
   ]
  },
  {
   "cell_type": "code",
   "execution_count": 25,
   "id": "7d7164b8-f3e4-4291-9d43-c62d1c8248c0",
   "metadata": {},
   "outputs": [
    {
     "data": {
      "text/plain": [
       "'Great Learning'"
      ]
     },
     "execution_count": 25,
     "metadata": {},
     "output_type": "execute_result"
    }
   ],
   "source": [
    "a\n",
    "b\n",
    "c"
   ]
  },
  {
   "cell_type": "code",
   "execution_count": 26,
   "id": "cc67a0eb-79c6-4583-b218-187a6f7420b3",
   "metadata": {},
   "outputs": [
    {
     "data": {
      "text/plain": [
       "4"
      ]
     },
     "execution_count": 26,
     "metadata": {},
     "output_type": "execute_result"
    }
   ],
   "source": [
    "a"
   ]
  },
  {
   "cell_type": "code",
   "execution_count": 27,
   "id": "e23d191b-902b-45b3-9aac-0578e59e2d34",
   "metadata": {},
   "outputs": [
    {
     "data": {
      "text/plain": [
       "5"
      ]
     },
     "execution_count": 27,
     "metadata": {},
     "output_type": "execute_result"
    }
   ],
   "source": [
    "b"
   ]
  },
  {
   "cell_type": "markdown",
   "id": "097c34ec-1ee4-4f2c-822b-27653b1a41fc",
   "metadata": {},
   "source": [
    "# Basic Data types of a variable"
   ]
  },
  {
   "cell_type": "code",
   "execution_count": 3,
   "id": "657cbcae-59d8-475a-88ea-f23787b086ec",
   "metadata": {},
   "outputs": [],
   "source": [
    "var1=25\n",
    "var2=\"Arthur\""
   ]
  },
  {
   "cell_type": "code",
   "execution_count": 4,
   "id": "8ec21314-5c9d-4f36-9c0e-3b390f8c20aa",
   "metadata": {},
   "outputs": [
    {
     "data": {
      "text/plain": [
       "'Arthur'"
      ]
     },
     "execution_count": 4,
     "metadata": {},
     "output_type": "execute_result"
    }
   ],
   "source": [
    "var2"
   ]
  },
  {
   "cell_type": "code",
   "execution_count": 5,
   "id": "ed5af99d-4f20-4b83-9963-5111d2141f52",
   "metadata": {},
   "outputs": [
    {
     "data": {
      "text/plain": [
       "str"
      ]
     },
     "execution_count": 5,
     "metadata": {},
     "output_type": "execute_result"
    }
   ],
   "source": [
    "type(var2)"
   ]
  },
  {
   "cell_type": "code",
   "execution_count": 30,
   "id": "f8f96bca-ad00-4f68-919c-1e481f4c0d44",
   "metadata": {},
   "outputs": [],
   "source": [
    "var1=25\n",
    "var2=\"Arthur\"\n",
    "var2=var1"
   ]
  },
  {
   "cell_type": "code",
   "execution_count": 31,
   "id": "8c956258-7181-4347-8e14-364de4513d1e",
   "metadata": {},
   "outputs": [
    {
     "data": {
      "text/plain": [
       "25"
      ]
     },
     "execution_count": 31,
     "metadata": {},
     "output_type": "execute_result"
    }
   ],
   "source": [
    "var2"
   ]
  },
  {
   "cell_type": "code",
   "execution_count": 32,
   "id": "bb79c450-77cf-4d86-82f8-65c81ac7d68a",
   "metadata": {},
   "outputs": [
    {
     "data": {
      "text/plain": [
       "int"
      ]
     },
     "execution_count": 32,
     "metadata": {},
     "output_type": "execute_result"
    }
   ],
   "source": [
    "a=5\n",
    "type(a)"
   ]
  },
  {
   "cell_type": "code",
   "execution_count": 33,
   "id": "c1b62644-08c6-4fc3-8877-4dad40183e7a",
   "metadata": {},
   "outputs": [
    {
     "data": {
      "text/plain": [
       "float"
      ]
     },
     "execution_count": 33,
     "metadata": {},
     "output_type": "execute_result"
    }
   ],
   "source": [
    "a=1.1\n",
    "type(a)"
   ]
  },
  {
   "cell_type": "code",
   "execution_count": 34,
   "id": "f7454ab6-b1c6-418d-a9b9-bfd95dcc2368",
   "metadata": {},
   "outputs": [
    {
     "data": {
      "text/plain": [
       "int"
      ]
     },
     "execution_count": 34,
     "metadata": {},
     "output_type": "execute_result"
    }
   ],
   "source": [
    "b=-5\n",
    "type(b)"
   ]
  },
  {
   "cell_type": "code",
   "execution_count": 35,
   "id": "d6f7d773-e4e5-4c8a-ae75-111cc76b2aa4",
   "metadata": {},
   "outputs": [
    {
     "data": {
      "text/plain": [
       "float"
      ]
     },
     "execution_count": 35,
     "metadata": {},
     "output_type": "execute_result"
    }
   ],
   "source": [
    "b=-0.123\n",
    "type(b)"
   ]
  },
  {
   "cell_type": "code",
   "execution_count": 36,
   "id": "aa3fe0e9-d8c3-4723-9a06-0a79be00fa34",
   "metadata": {},
   "outputs": [
    {
     "data": {
      "text/plain": [
       "int"
      ]
     },
     "execution_count": 36,
     "metadata": {},
     "output_type": "execute_result"
    }
   ],
   "source": [
    "c=16000\n",
    "type(c)"
   ]
  },
  {
   "cell_type": "code",
   "execution_count": 38,
   "id": "789c5022-78e4-4d82-b427-58f3162401cb",
   "metadata": {},
   "outputs": [
    {
     "data": {
      "text/plain": [
       "16000.0"
      ]
     },
     "execution_count": 38,
     "metadata": {},
     "output_type": "execute_result"
    }
   ],
   "source": [
    "c=1.6e4\n",
    "c"
   ]
  },
  {
   "cell_type": "code",
   "execution_count": 39,
   "id": "3a7f7bf9-1add-4437-9c73-eb48ca530ed8",
   "metadata": {},
   "outputs": [
    {
     "data": {
      "text/plain": [
       "float"
      ]
     },
     "execution_count": 39,
     "metadata": {},
     "output_type": "execute_result"
    }
   ],
   "source": [
    "type(c)"
   ]
  },
  {
   "cell_type": "code",
   "execution_count": 40,
   "id": "b294d68e-bc1c-42ef-ac21-2da2e13c184e",
   "metadata": {},
   "outputs": [
    {
     "data": {
      "text/plain": [
       "(3+4j)"
      ]
     },
     "execution_count": 40,
     "metadata": {},
     "output_type": "execute_result"
    }
   ],
   "source": [
    "x=3+4j\n",
    "#j is Sq.root of -1\n",
    "x"
   ]
  },
  {
   "cell_type": "code",
   "execution_count": 41,
   "id": "fa81103a-c0b8-427d-839e-0c0ff3e218c0",
   "metadata": {},
   "outputs": [
    {
     "data": {
      "text/plain": [
       "complex"
      ]
     },
     "execution_count": 41,
     "metadata": {},
     "output_type": "execute_result"
    }
   ],
   "source": [
    "type(x)"
   ]
  },
  {
   "cell_type": "code",
   "execution_count": 43,
   "id": "d3ed82e3-e7ac-41f7-ac25-ced48e678433",
   "metadata": {},
   "outputs": [
    {
     "data": {
      "text/plain": [
       "'GreatLearning'"
      ]
     },
     "execution_count": 43,
     "metadata": {},
     "output_type": "execute_result"
    }
   ],
   "source": [
    "str1=\"Great\"\n",
    "str2=\"Learning\"\n",
    "str1+str2"
   ]
  },
  {
   "cell_type": "code",
   "execution_count": 44,
   "id": "f968839b-1453-47e6-8a42-1243e5fa1a6f",
   "metadata": {},
   "outputs": [
    {
     "data": {
      "text/plain": [
       "'ACTGACTGACTGACTGACTGACTGACTGACTGACTGACTG'"
      ]
     },
     "execution_count": 44,
     "metadata": {},
     "output_type": "execute_result"
    }
   ],
   "source": [
    "str4=\"ACTG\"\n",
    "str4*10"
   ]
  },
  {
   "cell_type": "code",
   "execution_count": 49,
   "id": "ec03ea61-27df-4865-b53e-d3d5b2e1199e",
   "metadata": {},
   "outputs": [
    {
     "data": {
      "text/plain": [
       "'T'"
      ]
     },
     "execution_count": 49,
     "metadata": {},
     "output_type": "execute_result"
    }
   ],
   "source": [
    "str4[0]\n",
    "str4[1]\n",
    "str4[2]\n",
    "str4[-1]\n",
    "str4[-2]\n"
   ]
  },
  {
   "cell_type": "code",
   "execution_count": 50,
   "id": "61051366-9070-4481-ab8f-e8e85e6704ff",
   "metadata": {},
   "outputs": [
    {
     "data": {
      "text/plain": [
       "'G'"
      ]
     },
     "execution_count": 50,
     "metadata": {},
     "output_type": "execute_result"
    }
   ],
   "source": [
    "str1[0]"
   ]
  },
  {
   "cell_type": "code",
   "execution_count": 51,
   "id": "373765be-fb68-4d4a-8c81-7620908e76b3",
   "metadata": {},
   "outputs": [
    {
     "data": {
      "text/plain": [
       "'Gr'"
      ]
     },
     "execution_count": 51,
     "metadata": {},
     "output_type": "execute_result"
    }
   ],
   "source": [
    "str1[0:2]"
   ]
  },
  {
   "cell_type": "code",
   "execution_count": 52,
   "id": "17989ce7-4eaf-4fcd-8561-4437a868e99d",
   "metadata": {},
   "outputs": [
    {
     "data": {
      "text/plain": [
       "'Lea'"
      ]
     },
     "execution_count": 52,
     "metadata": {},
     "output_type": "execute_result"
    }
   ],
   "source": [
    "str2[0:3]"
   ]
  },
  {
   "cell_type": "code",
   "execution_count": 53,
   "id": "9d7e04b7-996b-479c-a494-22a749d95faf",
   "metadata": {},
   "outputs": [
    {
     "ename": "TypeError",
     "evalue": "'str' object is not callable",
     "output_type": "error",
     "traceback": [
      "\u001b[1;31m---------------------------------------------------------------------------\u001b[0m",
      "\u001b[1;31mTypeError\u001b[0m                                 Traceback (most recent call last)",
      "Cell \u001b[1;32mIn[53], line 1\u001b[0m\n\u001b[1;32m----> 1\u001b[0m str1(\u001b[38;5;241m0\u001b[39m)\n",
      "\u001b[1;31mTypeError\u001b[0m: 'str' object is not callable"
     ]
    }
   ],
   "source": [
    "str1(0)"
   ]
  },
  {
   "cell_type": "code",
   "execution_count": 6,
   "id": "d96fd5a8-77e9-40f7-ae53-e27a945a3c70",
   "metadata": {},
   "outputs": [
    {
     "data": {
      "text/plain": [
       "bool"
      ]
     },
     "execution_count": 6,
     "metadata": {},
     "output_type": "execute_result"
    }
   ],
   "source": [
    "var=True\n",
    "type(var)"
   ]
  },
  {
   "cell_type": "markdown",
   "id": "f579bf60-ff02-4224-86c5-488b74848aec",
   "metadata": {},
   "source": [
    "Boolean"
   ]
  },
  {
   "cell_type": "code",
   "execution_count": 56,
   "id": "7921ba79-751d-4be0-a558-74f6710aa3d1",
   "metadata": {},
   "outputs": [
    {
     "data": {
      "text/plain": [
       "bool"
      ]
     },
     "execution_count": 56,
     "metadata": {},
     "output_type": "execute_result"
    }
   ],
   "source": [
    "var=False\n",
    "type(var)"
   ]
  },
  {
   "cell_type": "code",
   "execution_count": 57,
   "id": "fca983eb-e7af-435c-867c-a725bf442408",
   "metadata": {},
   "outputs": [
    {
     "data": {
      "text/plain": [
       "True"
      ]
     },
     "execution_count": 57,
     "metadata": {},
     "output_type": "execute_result"
    }
   ],
   "source": [
    "10>9"
   ]
  },
  {
   "cell_type": "code",
   "execution_count": 58,
   "id": "60bb4048-1f0b-42b2-bec1-58066cdf79ec",
   "metadata": {},
   "outputs": [
    {
     "data": {
      "text/plain": [
       "False"
      ]
     },
     "execution_count": 58,
     "metadata": {},
     "output_type": "execute_result"
    }
   ],
   "source": [
    "9>10"
   ]
  },
  {
   "cell_type": "markdown",
   "id": "0e0ce475-ec6e-43ac-b2da-8a1e36e030b0",
   "metadata": {},
   "source": [
    "#keyboard Shortcuts\n",
    "• Press a: Insert a cell above the selected cell\r\n",
    "• Press b: Insert a cell below the selected cell\r\n",
    "• Press d d: Delete the selected cell(\n",
    "Press Ctrl+Enter: Run selected cells\r\n",
    "Press Shift+Enter: Run cell, select below\r\n",
    "Press Alt+Enter: Run cell and insert a cell belows)"
   ]
  },
  {
   "cell_type": "code",
   "execution_count": 59,
   "id": "d3dd86b5-231c-4e4c-b3dd-9e8c471f206f",
   "metadata": {},
   "outputs": [
    {
     "data": {
      "text/plain": [
       "int"
      ]
     },
     "execution_count": 59,
     "metadata": {},
     "output_type": "execute_result"
    }
   ],
   "source": [
    "type(11)"
   ]
  },
  {
   "cell_type": "code",
   "execution_count": 60,
   "id": "2384cf35-fcfb-4c79-8194-e7363476c8a3",
   "metadata": {},
   "outputs": [
    {
     "data": {
      "text/plain": [
       "11.0"
      ]
     },
     "execution_count": 60,
     "metadata": {},
     "output_type": "execute_result"
    }
   ],
   "source": [
    "float(11)"
   ]
  },
  {
   "cell_type": "code",
   "execution_count": 61,
   "id": "25e5a859-4aa0-49c5-9fa3-211819ba3b62",
   "metadata": {},
   "outputs": [
    {
     "data": {
      "text/plain": [
       "11.0"
      ]
     },
     "execution_count": 61,
     "metadata": {},
     "output_type": "execute_result"
    }
   ],
   "source": [
    "float('11')"
   ]
  },
  {
   "cell_type": "code",
   "execution_count": 62,
   "id": "b9857486-18f1-4162-8aad-4dfcafd31520",
   "metadata": {},
   "outputs": [
    {
     "ename": "ValueError",
     "evalue": "could not convert string to float: 'GL'",
     "output_type": "error",
     "traceback": [
      "\u001b[1;31m---------------------------------------------------------------------------\u001b[0m",
      "\u001b[1;31mValueError\u001b[0m                                Traceback (most recent call last)",
      "Cell \u001b[1;32mIn[62], line 1\u001b[0m\n\u001b[1;32m----> 1\u001b[0m \u001b[38;5;28mfloat\u001b[39m(\u001b[38;5;124m'\u001b[39m\u001b[38;5;124mGL\u001b[39m\u001b[38;5;124m'\u001b[39m)\n",
      "\u001b[1;31mValueError\u001b[0m: could not convert string to float: 'GL'"
     ]
    }
   ],
   "source": [
    "float('GL')"
   ]
  },
  {
   "cell_type": "code",
   "execution_count": 63,
   "id": "a3ac3a5e-7d3a-4856-8b7a-3159e5c363f2",
   "metadata": {},
   "outputs": [
    {
     "data": {
      "text/plain": [
       "float"
      ]
     },
     "execution_count": 63,
     "metadata": {},
     "output_type": "execute_result"
    }
   ],
   "source": [
    "type(11.7)"
   ]
  },
  {
   "cell_type": "code",
   "execution_count": 64,
   "id": "49d39c82-561a-4dec-86b6-f2a2dddb5cb4",
   "metadata": {},
   "outputs": [
    {
     "data": {
      "text/plain": [
       "11"
      ]
     },
     "execution_count": 64,
     "metadata": {},
     "output_type": "execute_result"
    }
   ],
   "source": [
    "int(11.7)"
   ]
  },
  {
   "cell_type": "code",
   "execution_count": 65,
   "id": "d0711b6e-00cf-470e-9acb-922c1cce54a8",
   "metadata": {},
   "outputs": [
    {
     "data": {
      "text/plain": [
       "-11"
      ]
     },
     "execution_count": 65,
     "metadata": {},
     "output_type": "execute_result"
    }
   ],
   "source": [
    "int(-11.7)"
   ]
  },
  {
   "cell_type": "markdown",
   "id": "3423d446-b051-40f3-8be3-10b484334b5f",
   "metadata": {},
   "source": [
    "# Print and Scan Statements in Python"
   ]
  },
  {
   "cell_type": "code",
   "execution_count": 66,
   "id": "9076e400-5195-49f5-bcb2-83a04a84d58c",
   "metadata": {},
   "outputs": [
    {
     "name": "stdout",
     "output_type": "stream",
     "text": [
      "Hello WOrld\n"
     ]
    }
   ],
   "source": [
    "print(\"Hello WOrld\")"
   ]
  },
  {
   "cell_type": "code",
   "execution_count": 67,
   "id": "cbc3a773-afea-420d-9870-9d79d5971817",
   "metadata": {},
   "outputs": [
    {
     "data": {
      "text/plain": [
       "2"
      ]
     },
     "execution_count": 67,
     "metadata": {},
     "output_type": "execute_result"
    }
   ],
   "source": [
    "x=2\n",
    "x"
   ]
  },
  {
   "cell_type": "code",
   "execution_count": 68,
   "id": "8a904401-2876-4be9-b4d3-ffe2040b8b24",
   "metadata": {},
   "outputs": [
    {
     "name": "stdout",
     "output_type": "stream",
     "text": [
      "X= 2\n"
     ]
    }
   ],
   "source": [
    "print(\"X=\",x)"
   ]
  },
  {
   "cell_type": "code",
   "execution_count": 71,
   "id": "2a32d8f3-ef4b-41d6-b3c0-fc6c80441a0e",
   "metadata": {
    "scrolled": true
   },
   "outputs": [
    {
     "name": "stdout",
     "output_type": "stream",
     "text": [
      "X= 7\n",
      "\n",
      "Y= 9\n"
     ]
    }
   ],
   "source": [
    "x=7\n",
    "y=9\n",
    "print(\"X=\",x, end='\\n\\n')\n",
    "print(\"Y=\",y)"
   ]
  },
  {
   "cell_type": "code",
   "execution_count": 12,
   "id": "819c16c7-3fc5-410a-bf41-fb958eb3a841",
   "metadata": {},
   "outputs": [
    {
     "name": "stdin",
     "output_type": "stream",
     "text": [
      "Please enter your age : 23\n"
     ]
    },
    {
     "name": "stdout",
     "output_type": "stream",
     "text": [
      "23\n"
     ]
    },
    {
     "data": {
      "text/plain": [
       "int"
      ]
     },
     "execution_count": 12,
     "metadata": {},
     "output_type": "execute_result"
    }
   ],
   "source": [
    "age=int(input(\"Please enter your age :\"))\n",
    "print(age)\n",
    "type(age)"
   ]
  },
  {
   "cell_type": "code",
   "execution_count": 14,
   "id": "d6cb39a8-93f6-440a-8971-7c549a1022e3",
   "metadata": {},
   "outputs": [
    {
     "name": "stdin",
     "output_type": "stream",
     "text": [
      "Enter your name : anusha\n"
     ]
    },
    {
     "name": "stdout",
     "output_type": "stream",
     "text": [
      "anusha\n"
     ]
    },
    {
     "data": {
      "text/plain": [
       "str"
      ]
     },
     "execution_count": 14,
     "metadata": {},
     "output_type": "execute_result"
    }
   ],
   "source": [
    "name=input(\"Enter your name :\")\n",
    "print(name)\n",
    "type(name)"
   ]
  }
 ],
 "metadata": {
  "kernelspec": {
   "display_name": "Python 3 (ipykernel)",
   "language": "python",
   "name": "python3"
  },
  "language_info": {
   "codemirror_mode": {
    "name": "ipython",
    "version": 3
   },
   "file_extension": ".py",
   "mimetype": "text/x-python",
   "name": "python",
   "nbconvert_exporter": "python",
   "pygments_lexer": "ipython3",
   "version": "3.11.7"
  }
 },
 "nbformat": 4,
 "nbformat_minor": 5
}
