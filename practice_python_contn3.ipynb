{
 "cells": [
  {
   "cell_type": "markdown",
   "id": "396441bc-ac87-4912-9647-1b5a96cb2192",
   "metadata": {},
   "source": [
    "# Decorator"
   ]
  },
  {
   "cell_type": "code",
   "execution_count": 4,
   "id": "d2522260-1e1e-4992-b7fd-f5c50fe38ae2",
   "metadata": {},
   "outputs": [
    {
     "name": "stdout",
     "output_type": "stream",
     "text": [
      "Hello Dear Learner\n",
      "Dear Learner, How you doing?\n"
     ]
    }
   ],
   "source": [
    "# Function as first-class object\n",
    "def func1(name):\n",
    "    return f\"Hello {name}\"\n",
    "def func2(name):\n",
    "    return f\"{name}, How you doing?\"\n",
    "def func3(func4):\n",
    "    return func4('Dear Learner')\n",
    "print(func3(func1))\n",
    "print(func3(func2))"
   ]
  },
  {
   "cell_type": "code",
   "execution_count": 6,
   "id": "76568aad-449e-4037-8483-049793514fb1",
   "metadata": {},
   "outputs": [
    {
     "name": "stdout",
     "output_type": "stream",
     "text": [
      "First Function\n",
      "Second child function\n",
      "First child function\n"
     ]
    }
   ],
   "source": [
    "# Inner Function\n",
    "def func():\n",
    "    print(\"First Function\")\n",
    "    def func1():\n",
    "        print(\"First child function\")\n",
    "    def func2():\n",
    "        print(\"Second child function\")\n",
    "    func2()\n",
    "    func1()\n",
    "func()"
   ]
  },
  {
   "cell_type": "code",
   "execution_count": 7,
   "id": "c662c861-63a8-4d27-abb6-c3643cc9f67c",
   "metadata": {},
   "outputs": [
    {
     "name": "stdout",
     "output_type": "stream",
     "text": [
      "Hello\n",
      "Pythonista\n",
      "Welcome to python\n"
     ]
    }
   ],
   "source": [
    "def function1(function):\n",
    "    def wrapper():\n",
    "        print(\"Hello\")\n",
    "        function()\n",
    "        print(\"Welcome to python\")\n",
    "    return wrapper\n",
    "def function2():\n",
    "    print(\"Pythonista\")\n",
    "\n",
    "function2=function1(function2)\n",
    "function2()\n",
    "        "
   ]
  },
  {
   "cell_type": "code",
   "execution_count": 8,
   "id": "b3cc202a-e6c1-41b8-a5d7-a215a71a2c40",
   "metadata": {},
   "outputs": [
    {
     "name": "stdout",
     "output_type": "stream",
     "text": [
      "Hello\n",
      "Pythonista\n",
      "Welcome to python\n"
     ]
    }
   ],
   "source": [
    "def function1(function):\n",
    "    def wrapper():\n",
    "        print(\"Hello\")\n",
    "        function()\n",
    "        print(\"Welcome to python\")\n",
    "    return wrapper\n",
    "@function1\n",
    "def function2():\n",
    "    print(\"Pythonista\")\n",
    "function2()"
   ]
  },
  {
   "cell_type": "markdown",
   "id": "436aa3f7-7001-4792-8d8c-67f2b4f74dba",
   "metadata": {},
   "source": [
    "# Reduce() function"
   ]
  },
  {
   "cell_type": "code",
   "execution_count": 11,
   "id": "28edf868-e938-4daf-9256-849e5ad18776",
   "metadata": {},
   "outputs": [
    {
     "name": "stdout",
     "output_type": "stream",
     "text": [
      "10\n"
     ]
    }
   ],
   "source": [
    "#reduce(function,iterables)\n",
    "from functools import reduce\n",
    "def a(x,y):\n",
    "    return(x+y)\n",
    "s=reduce(a, [1,2,3,4])\n",
    "print(s)"
   ]
  },
  {
   "cell_type": "code",
   "execution_count": 12,
   "id": "db26597b-aa66-4f5e-bf70-71d46cc7c134",
   "metadata": {},
   "outputs": [
    {
     "data": {
      "text/plain": [
       "24"
      ]
     },
     "execution_count": 12,
     "metadata": {},
     "output_type": "execute_result"
    }
   ],
   "source": [
    "reduce(lambda p,q:p*q, [1,2,3,4])"
   ]
  },
  {
   "cell_type": "code",
   "execution_count": 13,
   "id": "48b6ba31-cacd-4760-bb03-ad8ea95b5a12",
   "metadata": {},
   "outputs": [
    {
     "name": "stdout",
     "output_type": "stream",
     "text": [
      "20\n"
     ]
    }
   ],
   "source": [
    "#map and filter with in reduce\n",
    "r=reduce(lambda x,y:x+y, map(lambda x:x+x, filter (lambda x:(x<=4), [1,2,3,4,5])))\n",
    "print(r)"
   ]
  },
  {
   "cell_type": "markdown",
   "id": "272afe0c-dd6b-4b28-8f27-37331c4b7747",
   "metadata": {},
   "source": [
    "# Generator"
   ]
  },
  {
   "cell_type": "code",
   "execution_count": 14,
   "id": "ef7b84d3-6d2f-4b85-b6d0-2db22f7e8c8a",
   "metadata": {},
   "outputs": [
    {
     "name": "stdout",
     "output_type": "stream",
     "text": [
      "<generator object new at 0x00000262C48550E0>\n"
     ]
    },
    {
     "data": {
      "text/plain": [
       "(1, 'Hello')"
      ]
     },
     "execution_count": 14,
     "metadata": {},
     "output_type": "execute_result"
    }
   ],
   "source": [
    "def new(dict):\n",
    "    for x, y in dict.items():\n",
    "        yield x,y\n",
    "a= {1:'Hello', 2:'Welcome'}\n",
    "b=new(a)\n",
    "print(b)\n",
    "next(b)"
   ]
  },
  {
   "cell_type": "code",
   "execution_count": 15,
   "id": "500ec864-3925-44d5-aac7-715dbf8bb28e",
   "metadata": {},
   "outputs": [
    {
     "data": {
      "text/plain": [
       "(2, 'Welcome')"
      ]
     },
     "execution_count": 15,
     "metadata": {},
     "output_type": "execute_result"
    }
   ],
   "source": [
    "next(b)"
   ]
  },
  {
   "cell_type": "code",
   "execution_count": 17,
   "id": "03121eee-7274-4745-b483-fea29fa6c86c",
   "metadata": {},
   "outputs": [
    {
     "data": {
      "text/plain": [
       "3"
      ]
     },
     "execution_count": 17,
     "metadata": {},
     "output_type": "execute_result"
    }
   ],
   "source": [
    "def ex():\n",
    "    n=3\n",
    "    yield n\n",
    "    n=n*n\n",
    "    yield n\n",
    "v=ex()\n",
    "next(v)"
   ]
  },
  {
   "cell_type": "code",
   "execution_count": 18,
   "id": "df411b68-2fa6-4438-a1b0-a127ab7dac46",
   "metadata": {},
   "outputs": [
    {
     "data": {
      "text/plain": [
       "9"
      ]
     },
     "execution_count": 18,
     "metadata": {},
     "output_type": "execute_result"
    }
   ],
   "source": [
    "next(v)"
   ]
  },
  {
   "cell_type": "code",
   "execution_count": 20,
   "id": "410ce7a0-d44c-40e5-9e3b-886f849abcff",
   "metadata": {},
   "outputs": [
    {
     "name": "stdout",
     "output_type": "stream",
     "text": [
      "3\n",
      "9\n"
     ]
    }
   ],
   "source": [
    "def ex():\n",
    "    n=3\n",
    "    yield n\n",
    "    n=n*n\n",
    "    yield n\n",
    "v=ex()\n",
    "for x in v:\n",
    "    print(x)"
   ]
  },
  {
   "cell_type": "code",
   "execution_count": 22,
   "id": "64d145ba-82bf-4757-a2df-01ad0dbbdc3e",
   "metadata": {},
   "outputs": [
    {
     "name": "stdout",
     "output_type": "stream",
     "text": [
      "0 1 1 2 3 5 8 13 21 34 "
     ]
    }
   ],
   "source": [
    "def fib():\n",
    "    f,s=0,1\n",
    "    while True:\n",
    "        yield f\n",
    "        f, s=s, f+s\n",
    "for x in fib():\n",
    "    if x>50:\n",
    "        break\n",
    "    print(x, end=\" \")"
   ]
  },
  {
   "cell_type": "code",
   "execution_count": 24,
   "id": "7c51eec5-540c-41f3-988b-e6b864880f2a",
   "metadata": {},
   "outputs": [
    {
     "name": "stdout",
     "output_type": "stream",
     "text": [
      "<generator object <genexpr> at 0x00000262C485D080>\n",
      "0\n",
      "1\n",
      "2\n",
      "3\n",
      "4\n",
      "5\n",
      "6\n",
      "7\n",
      "8\n",
      "9\n"
     ]
    }
   ],
   "source": [
    "a=range(10)\n",
    "b=(x for x in a) # Generator expression\n",
    "print(b)\n",
    "for y in b:\n",
    "    print(y)"
   ]
  },
  {
   "cell_type": "code",
   "execution_count": 25,
   "id": "f4e36688-b49b-4096-ac50-9269c1fb3c90",
   "metadata": {},
   "outputs": [
    {
     "name": "stdout",
     "output_type": "stream",
     "text": [
      "<generator object <genexpr> at 0x00000262C485C1E0>\n",
      "2\n",
      "4\n",
      "6\n",
      "8\n"
     ]
    }
   ],
   "source": [
    "a=range(2,10,2)\n",
    "b=(x for x in a) # Generator expression\n",
    "print(b)\n",
    "for y in b:\n",
    "    print(y)"
   ]
  },
  {
   "cell_type": "code",
   "execution_count": 27,
   "id": "e03ff40a-2d3a-4639-aa1a-cf03f6ba077f",
   "metadata": {},
   "outputs": [
    {
     "name": "stdout",
     "output_type": "stream",
     "text": [
      "<generator object <genexpr> at 0x00000262C485C1E0>\n",
      "1\n",
      "2\n",
      "3\n",
      "4\n",
      "5\n",
      "6\n",
      "7\n",
      "8\n",
      "9\n"
     ]
    }
   ],
   "source": [
    "a=range(1,10,1)\n",
    "b=(x for x in a) # Generator expression\n",
    "print(b)\n",
    "for y in b:\n",
    "    print(y)"
   ]
  },
  {
   "cell_type": "code",
   "execution_count": 29,
   "id": "acc5bbf1-e0ea-4d34-9bfc-72456a3b53c3",
   "metadata": {},
   "outputs": [
    {
     "name": "stdout",
     "output_type": "stream",
     "text": [
      "List Comprehension :[2, 3, 4, 5, 6, 7]\n",
      "Generator Expression:<generator object <genexpr> at 0x00000262C4AE92F0>\n"
     ]
    }
   ],
   "source": [
    "f=range(6)\n",
    "print(\"List Comprehension \", end=\":\")\n",
    "q=[x+2 for x in f]\n",
    "print(q)\n",
    "print(\"Generator Expression\", end =\":\")\n",
    "r=(x+2 for x in f)\n",
    "print(r)"
   ]
  },
  {
   "cell_type": "code",
   "execution_count": 30,
   "id": "81b28421-19ea-4361-a233-7ac13826d09c",
   "metadata": {},
   "outputs": [
    {
     "name": "stdout",
     "output_type": "stream",
     "text": [
      "2\n",
      "3\n",
      "4\n",
      "5\n",
      "6\n",
      "7\n"
     ]
    }
   ],
   "source": [
    "for x in r:\n",
    "    print(x)"
   ]
  },
  {
   "cell_type": "code",
   "execution_count": 32,
   "id": "47b5a8d4-79d0-4b15-a3b7-223d2a34a6ba",
   "metadata": {},
   "outputs": [
    {
     "name": "stdout",
     "output_type": "stream",
     "text": [
      "Generator Expression:<generator object <genexpr> at 0x00000262C485E670>\n",
      "2\n"
     ]
    }
   ],
   "source": [
    "print(\"Generator Expression\", end =\":\")\n",
    "r=(x+2 for x in f)\n",
    "print(r)\n",
    "print(min(r))"
   ]
  }
 ],
 "metadata": {
  "kernelspec": {
   "display_name": "Python 3 (ipykernel)",
   "language": "python",
   "name": "python3"
  },
  "language_info": {
   "codemirror_mode": {
    "name": "ipython",
    "version": 3
   },
   "file_extension": ".py",
   "mimetype": "text/x-python",
   "name": "python",
   "nbconvert_exporter": "python",
   "pygments_lexer": "ipython3",
   "version": "3.11.7"
  }
 },
 "nbformat": 4,
 "nbformat_minor": 5
}
