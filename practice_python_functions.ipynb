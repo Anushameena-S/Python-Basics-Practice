{
 "cells": [
  {
   "cell_type": "markdown",
   "id": "f18e73fb-96b6-4bec-ac42-8ffcbe5227e8",
   "metadata": {},
   "source": [
    "# Functions"
   ]
  },
  {
   "cell_type": "markdown",
   "id": "04026438-62cc-44c1-b756-b260d6269f73",
   "metadata": {},
   "source": [
    "##  User Defined Functions without arguments"
   ]
  },
  {
   "cell_type": "code",
   "execution_count": 1,
   "id": "fbebc2cd-dcc7-41e1-9918-f3a234f3429f",
   "metadata": {},
   "outputs": [],
   "source": [
    "def twice():\n",
    "    a=int(input(\"Enter a number : \"))\n",
    "    print(a*2)       "
   ]
  },
  {
   "cell_type": "code",
   "execution_count": 2,
   "id": "02845a57-6520-4a15-83d2-dd27ccf1e88e",
   "metadata": {},
   "outputs": [
    {
     "name": "stdin",
     "output_type": "stream",
     "text": [
      "Enter a number :  3\n"
     ]
    },
    {
     "name": "stdout",
     "output_type": "stream",
     "text": [
      "6\n"
     ]
    }
   ],
   "source": [
    "twice()"
   ]
  },
  {
   "cell_type": "markdown",
   "id": "44a15306-b05e-435c-9b70-cc6eb18473b3",
   "metadata": {},
   "source": [
    "## User Defined Functions with argument"
   ]
  },
  {
   "cell_type": "code",
   "execution_count": 6,
   "id": "14f201de-745f-42e2-9d2c-e3191fdd1523",
   "metadata": {},
   "outputs": [],
   "source": [
    "def average(x):\n",
    "    count=0\n",
    "    total=0\n",
    "    for i in x:\n",
    "        count+=1\n",
    "        total+=i\n",
    "    avg=total/count\n",
    "    return avg"
   ]
  },
  {
   "cell_type": "code",
   "execution_count": 7,
   "id": "a8981cd5-e986-4539-a3e8-00e69e92dda9",
   "metadata": {},
   "outputs": [],
   "source": [
    "x=(44,56,34,-58,45,36,78,-52,10,28)"
   ]
  },
  {
   "cell_type": "code",
   "execution_count": 8,
   "id": "b5054a10-3320-40e5-89b3-e530fc4effd3",
   "metadata": {},
   "outputs": [
    {
     "data": {
      "text/plain": [
       "22.1"
      ]
     },
     "execution_count": 8,
     "metadata": {},
     "output_type": "execute_result"
    }
   ],
   "source": [
    "average(x)"
   ]
  },
  {
   "cell_type": "code",
   "execution_count": 10,
   "id": "cccbdca5-41c9-461f-83a7-6588f0d1c505",
   "metadata": {},
   "outputs": [],
   "source": [
    "y=(10,20,30,40)"
   ]
  },
  {
   "cell_type": "markdown",
   "id": "eeb8299b-4b9c-453f-bd87-697c17baf82c",
   "metadata": {},
   "source": [
    "average(y)"
   ]
  },
  {
   "cell_type": "markdown",
   "id": "4b3b84a5-a900-432f-9662-b14e43869659",
   "metadata": {},
   "source": [
    "# Using *args"
   ]
  },
  {
   "cell_type": "code",
   "execution_count": 14,
   "id": "b8e1742f-9794-4601-b6bc-09c764b0a515",
   "metadata": {},
   "outputs": [],
   "source": [
    "def Multiple(*args):\n",
    "    for parameter in args:\n",
    "        print(parameter)"
   ]
  },
  {
   "cell_type": "code",
   "execution_count": 15,
   "id": "e5847a91-c3a6-461b-84f9-801a051ad815",
   "metadata": {},
   "outputs": [
    {
     "name": "stdout",
     "output_type": "stream",
     "text": [
      "Lets\n",
      "Learn\n",
      "Python\n",
      "For\n",
      "Data\n",
      "Science\n"
     ]
    }
   ],
   "source": [
    "Multiple(\"Lets\", \"Learn\", \"Python\", \"For\", \"Data\", \"Science\")"
   ]
  },
  {
   "cell_type": "markdown",
   "id": "9c723bd8-59b7-4179-97ba-f793365b5cf0",
   "metadata": {},
   "source": [
    "# Using **kwargs"
   ]
  },
  {
   "cell_type": "code",
   "execution_count": 17,
   "id": "227e46f8-70b1-4600-b927-65783a98497d",
   "metadata": {},
   "outputs": [],
   "source": [
    "def function(**kwargs):\n",
    "    for a, b in kwargs.items():\n",
    "        print(a,\"==\",b)"
   ]
  },
  {
   "cell_type": "code",
   "execution_count": 18,
   "id": "63d58968-54bd-406b-8778-6192918fcd13",
   "metadata": {},
   "outputs": [
    {
     "name": "stdout",
     "output_type": "stream",
     "text": [
      "A == First Letter\n",
      "B == Second Letter\n",
      "C == Third Letter\n"
     ]
    }
   ],
   "source": [
    "a=function(A=\"First Letter\", B=\"Second Letter\", C=\"Third Letter\")"
   ]
  },
  {
   "cell_type": "markdown",
   "id": "2065d7a6-f433-4429-95fa-18723d2ff530",
   "metadata": {},
   "source": [
    "# Lambda Funcions"
   ]
  },
  {
   "cell_type": "code",
   "execution_count": 19,
   "id": "007af291-457a-4a31-85d1-7d948d70edd8",
   "metadata": {},
   "outputs": [
    {
     "data": {
      "text/plain": [
       "34"
      ]
     },
     "execution_count": 19,
     "metadata": {},
     "output_type": "execute_result"
    }
   ],
   "source": [
    "min_value=(lambda x, y :x if x<y else y)\n",
    "min_value(34,78)"
   ]
  },
  {
   "cell_type": "code",
   "execution_count": 21,
   "id": "a1c848fc-b378-450e-bcbd-dc8bfc5a61f2",
   "metadata": {},
   "outputs": [
    {
     "data": {
      "text/plain": [
       "'False'"
      ]
     },
     "execution_count": 21,
     "metadata": {},
     "output_type": "execute_result"
    }
   ],
   "source": [
    "result=(lambda x, y : 'True' if x==y else 'False')\n",
    "result('Data', 'DaTa')"
   ]
  },
  {
   "cell_type": "code",
   "execution_count": 23,
   "id": "d5c349ad-f5e5-445a-8908-35f6a56f3fd7",
   "metadata": {},
   "outputs": [
    {
     "name": "stdout",
     "output_type": "stream",
     "text": [
      "11\n"
     ]
    }
   ],
   "source": [
    "x=lambda a,b:a+b\n",
    "print(x(5,6))"
   ]
  },
  {
   "cell_type": "markdown",
   "id": "f7027242-b643-4064-9d81-77d0d123207d",
   "metadata": {},
   "source": [
    "# Maps and Filter Functions"
   ]
  },
  {
   "cell_type": "code",
   "execution_count": 1,
   "id": "29299900-5191-42f3-8c2f-07eb6f20c739",
   "metadata": {},
   "outputs": [
    {
     "name": "stdout",
     "output_type": "stream",
     "text": [
      "[75.55555555555556, 95.55555555555556, 51.111111111111114, 82.22222222222223, 91.11111111111111, 88.88888888888889, 71.11111111111111, 77.77777777777777, 86.66666666666667, 26.666666666666668, 31.11111111111111, 37.77777777777778]\n"
     ]
    }
   ],
   "source": [
    "marks =[34,43,23,37,41,40,32,35,39,12,14,17]\n",
    "print(list(map(lambda x,y=100 : x*y/45, marks)))"
   ]
  },
  {
   "cell_type": "code",
   "execution_count": 3,
   "id": "8497b0b6-dd65-452a-8ada-b3b2590e55fe",
   "metadata": {},
   "outputs": [
    {
     "name": "stdout",
     "output_type": "stream",
     "text": [
      "Type of filter object : <class 'filter'>\n",
      "Even number as follows : [134, 128, 432, 432, 476, 598, 430, 548]\n"
     ]
    }
   ],
   "source": [
    "numbers=[134,243,128,432,567,345,432,476,598,430,548]\n",
    "def evennumber(in_num):\n",
    "    if (in_num % 2)==0:\n",
    "        return True\n",
    "    else:\n",
    "        return False\n",
    "\n",
    "out_filter_number=filter(evennumber, numbers)\n",
    "print(\"Type of filter object :\", type(out_filter_number))\n",
    "print(\"Even number as follows :\",list(out_filter_number))\n"
   ]
  },
  {
   "cell_type": "code",
   "execution_count": 9,
   "id": "795ac45f-e124-4201-baf3-12e9c9613ce6",
   "metadata": {},
   "outputs": [
    {
     "name": "stdout",
     "output_type": "stream",
     "text": [
      "[1, 27, 125, 343, 729, 1331, 2197, 3375, 4913, 6859, 9261, 12167, 15625, 19683, 24389, 29791, 35937, 42875, 50653, 59319, 68921, 79507, 91125, 103823, 117649]\n"
     ]
    },
    {
     "data": {
      "text/plain": [
       "780625"
      ]
     },
     "execution_count": 9,
     "metadata": {},
     "output_type": "execute_result"
    }
   ],
   "source": [
    "def cube(x):\n",
    "    return (x*x*x)\n",
    "    \n",
    "def isodd(x):\n",
    "    return (x%2 ==1)\n",
    "    \n",
    "list_cubes=list(map(cube, filter(isodd,range(1,51))))\n",
    "print(list_cubes)\n",
    "sum(list_cubes)"
   ]
  },
  {
   "cell_type": "code",
   "execution_count": 15,
   "id": "b8b7ea9d-b921-48ca-aef8-b930b2d3bbe1",
   "metadata": {},
   "outputs": [
    {
     "name": "stdout",
     "output_type": "stream",
     "text": [
      "[4, 16, 36, 64, 100, 144, 196, 256, 324, 400, 484, 576, 676, 784, 900, 1024, 1156, 1296, 1444, 1600, 1764, 1936, 2116, 2304, 2500]\n"
     ]
    },
    {
     "data": {
      "text/plain": [
       "22100"
      ]
     },
     "execution_count": 15,
     "metadata": {},
     "output_type": "execute_result"
    }
   ],
   "source": [
    "def square(x):\n",
    "    return (x**2)\n",
    "    \n",
    "def iseven(x):\n",
    "    return (x%2 ==0)\n",
    "    \n",
    "list_square=list(map(square, filter(iseven,range(1,51))))\n",
    "print(list_square)\n",
    "sum(list_square)"
   ]
  },
  {
   "cell_type": "markdown",
   "id": "4f9f3c25-5017-4a09-b36d-a8e3ee5cff86",
   "metadata": {},
   "source": [
    "# Finance or Budget Tracker"
   ]
  },
  {
   "cell_type": "code",
   "execution_count": null,
   "id": "ff822ede-d7b6-479b-ba7b-2cbe66642864",
   "metadata": {},
   "outputs": [],
   "source": [
    "def main():\n",
    "    OverallBudget=5000\n",
    "    selection=0\n",
    "    while selection !='4':\n",
    "        print(\"1 for Addition of expense\")\n",
    "        print(\"2 for Subtraction of expense\")\n",
    "        print(\"3 for Additon of revenue\")\n",
    "        print(\"4 for Subtraction of revenue\")\n",
    "        print(\"5 for exit\")\n",
    "\n",
    "        selection=int(input(\"Enter a number\"))\n",
    "        \n",
    "        if selection==1:\n",
    "            OverallBudget=additonofexpense(OverallBudget)\n",
    "        elif selection==2:\n",
    "            OverallBudget=subtractionofexpense(OverallBudget)\n",
    "        elif selection==3:\n",
    "            OverallBudget=additonofrevenue(OverallBudget)\n",
    "        elif selection==4:\n",
    "            OverallBudget=subtractionofrevenue(OverallBudget)\n",
    "        elif selection ==5:\n",
    "            print(\"Thank You\")\n",
    "            \n",
    "        else:\n",
    "            print(\"Wrong entry, Choose any other option\")\n",
    "#Add the expense\n",
    "def additonofexpense(OverallBudget):\n",
    "    billing=int(input(\"Enter the expense amount\"))\n",
    "    manybill=int(input(\"Enter the frequency of expense per month\"))\n",
    "    completebill=billing * manybill\n",
    "    OverallBudget=OverallBudget-completebill\n",
    "    checkonBudget(OverallBudget)\n",
    "    return OverallBudget  \n",
    "\n",
    "#Subtract the expense\n",
    "def subtractionofexpense(OverallBudget):\n",
    "    lessBill=int(input(\"Enter the amount to be subtracted\"))\n",
    "    manyless=int(input(\"Enter the frequency of expense to be subtracted per month\"))\n",
    "    totalless=lessBill*manyless\n",
    "    if totalless<=(OverallBudget):\n",
    "        OverallBudget=OverallBudget+totalless\n",
    "        checkonBudget(OverallBudget)\n",
    "    else:\n",
    "        print(\"Re-check the amount entered\")\n",
    "        return OverallBudget\n",
    "    \n",
    "\n",
    "#Add the revenue             \n",
    "def additonofrevenue(OverallBudget):\n",
    "    income=int(input(\"Enter the amount of additional income\"))\n",
    "    OverallBudget=OverallBudget+income\n",
    "    checkonBudget(OverallBudget)\n",
    "    return OverallBudget\n",
    "    \n",
    "\n",
    "#Subtract the revenue\n",
    "def subtractionofrevenue(OverallBudget):\n",
    "    lossincome=int(input(\"Enter the amount of additional income to be removed\"))\n",
    "    OverallBudget=OverallBudget-lossincome\n",
    "    checkonBudget(OverallBudget)\n",
    "    return OverallBudget\n",
    " \n",
    " \n",
    "# Check and reports balance\n",
    "def checkonBudget(OverallBudget):\n",
    "    if OverallBudget >=0:\n",
    "        print(\"The overall remaining budget is \", OverallBudget)\n",
    "    else:\n",
    "        print(\"You have exceeded the monthly budget\")\n",
    "        print(\"Re-evaluate you expenses and balance the budget\")\n",
    "        print(\"Current balance is \", OverallBudget)\n",
    "\n",
    "main()       "
   ]
  }
 ],
 "metadata": {
  "kernelspec": {
   "display_name": "Python 3 (ipykernel)",
   "language": "python",
   "name": "python3"
  },
  "language_info": {
   "codemirror_mode": {
    "name": "ipython",
    "version": 3
   },
   "file_extension": ".py",
   "mimetype": "text/x-python",
   "name": "python",
   "nbconvert_exporter": "python",
   "pygments_lexer": "ipython3",
   "version": "3.11.7"
  }
 },
 "nbformat": 4,
 "nbformat_minor": 5
}
