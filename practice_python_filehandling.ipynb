{
 "cells": [
  {
   "cell_type": "code",
   "execution_count": 3,
   "id": "27fb2a39-4eda-47da-869b-a1a4d8a987cb",
   "metadata": {},
   "outputs": [],
   "source": [
    "import os\n",
    "file=open(\"C:/Users/Anusha/OneDrive/Documents/Online MS Program/Python/demofile.txt\",'w')\n",
    "file.close()"
   ]
  },
  {
   "cell_type": "code",
   "execution_count": 5,
   "id": "ca029d35-c13b-4697-8ff9-c56e0577cee8",
   "metadata": {},
   "outputs": [
    {
     "name": "stdout",
     "output_type": "stream",
     "text": [
      "Hello World!!!!!!!!!!!!!\n"
     ]
    }
   ],
   "source": [
    "import os\n",
    "file=open(\"C:/Users/Anusha/OneDrive/Documents/Online MS Program/Python/demofile.txt\",'r')\n",
    "print(file.read())\n",
    "file.close()"
   ]
  },
  {
   "cell_type": "code",
   "execution_count": 7,
   "id": "273288df-5e05-4071-9e66-f060551906db",
   "metadata": {},
   "outputs": [
    {
     "name": "stdout",
     "output_type": "stream",
     "text": [
      "Hello\n"
     ]
    }
   ],
   "source": [
    "import os\n",
    "file=open(\"C:/Users/Anusha/OneDrive/Documents/Online MS Program/Python/demofile.txt\",'r')\n",
    "print(file.read(5))\n",
    "file.close()"
   ]
  },
  {
   "cell_type": "code",
   "execution_count": 10,
   "id": "0c3fab0a-d253-4273-87a0-8f16ad62b5f5",
   "metadata": {},
   "outputs": [
    {
     "name": "stdout",
     "output_type": "stream",
     "text": [
      "Hello World!!!!!!!!!!!!!\n",
      "\n"
     ]
    }
   ],
   "source": [
    "import os\n",
    "file=open(\"C:/Users/Anusha/OneDrive/Documents/Online MS Program/Python/demofile.txt\",'r')\n",
    "print(file.readline())\n",
    "file.close()"
   ]
  },
  {
   "cell_type": "code",
   "execution_count": 12,
   "id": "d249adde-1653-4d81-8b2a-3ec3d8431f15",
   "metadata": {},
   "outputs": [
    {
     "name": "stdout",
     "output_type": "stream",
     "text": [
      "['Hello World!!!!!!!!!!!!!\\n', 'We learn Python\\n', 'We learn file handling in python\\n', 'Best wishes.']\n"
     ]
    }
   ],
   "source": [
    "import os\n",
    "file=open(\"C:/Users/Anusha/OneDrive/Documents/Online MS Program/Python/demofile.txt\",'r')\n",
    "print(file.readlines())\n",
    "file.close()"
   ]
  },
  {
   "cell_type": "code",
   "execution_count": 13,
   "id": "e7a55d1a-7a53-4ba1-8129-8ca3826bf649",
   "metadata": {},
   "outputs": [
    {
     "name": "stdout",
     "output_type": "stream",
     "text": [
      "['We learn Python\\n', 'We learn file handling in python\\n', 'Best wishes.']\n"
     ]
    }
   ],
   "source": [
    "import os\n",
    "file=open(\"C:/Users/Anusha/OneDrive/Documents/Online MS Program/Python/demofile.txt\",'r')\n",
    "for line in file:\n",
    "    print(file.readlines())\n",
    "file.close()"
   ]
  },
  {
   "cell_type": "code",
   "execution_count": 16,
   "id": "92677f6e-1dd9-4cb2-a969-52590919bfcc",
   "metadata": {},
   "outputs": [],
   "source": [
    "import os\n",
    "file=open(\"C:/Users/Anusha/OneDrive/Documents/Online MS Program/Python/demofile.txt\",'w')\n",
    "file.write(\"Hello World\\n\")\n",
    "file.write(\"Hello World again??!!\")\n",
    "file.close()"
   ]
  },
  {
   "cell_type": "code",
   "execution_count": 18,
   "id": "67c12b44-846e-4246-90ee-6b225d0becfe",
   "metadata": {},
   "outputs": [],
   "source": [
    "import os\n",
    "file=open(\"C:/Users/Anusha/OneDrive/Documents/Online MS Program/Python/demofile.txt\",'w')\n",
    "file.write(\"Oops Overwritten\")\n",
    "file.close()"
   ]
  },
  {
   "cell_type": "code",
   "execution_count": 24,
   "id": "bc06e6f7-7d5a-42ee-a80c-c9633ec45496",
   "metadata": {},
   "outputs": [],
   "source": [
    "import os\n",
    "file=open(\"C:/Users/Anusha/OneDrive/Documents/Online MS Program/Python/newdemofile.txt\",'x')\n",
    "file.write(\"New file created\")\n",
    "file.close()"
   ]
  },
  {
   "cell_type": "code",
   "execution_count": 23,
   "id": "67aa2f2c-7e53-42c4-952e-290529abb6c7",
   "metadata": {},
   "outputs": [],
   "source": [
    "import os\n",
    "os.remove(\"C:/Users/Anusha/OneDrive/Documents/Online MS Program/Python/newdemofile.txt\")"
   ]
  }
 ],
 "metadata": {
  "kernelspec": {
   "display_name": "Python 3 (ipykernel)",
   "language": "python",
   "name": "python3"
  },
  "language_info": {
   "codemirror_mode": {
    "name": "ipython",
    "version": 3
   },
   "file_extension": ".py",
   "mimetype": "text/x-python",
   "name": "python",
   "nbconvert_exporter": "python",
   "pygments_lexer": "ipython3",
   "version": "3.11.7"
  }
 },
 "nbformat": 4,
 "nbformat_minor": 5
}
