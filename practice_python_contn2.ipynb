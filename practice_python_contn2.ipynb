{
 "cells": [
  {
   "cell_type": "markdown",
   "id": "2a42f0b1-8e1c-4885-975f-e8b08e2752f0",
   "metadata": {},
   "source": [
    "# Array"
   ]
  },
  {
   "cell_type": "code",
   "execution_count": 1,
   "id": "ed07a310-b939-46ae-8bbe-050f0b47f186",
   "metadata": {},
   "outputs": [],
   "source": [
    "#import array"
   ]
  },
  {
   "cell_type": "code",
   "execution_count": 2,
   "id": "a87313be-c27b-4928-a740-f20c3a2d88dc",
   "metadata": {},
   "outputs": [
    {
     "data": {
      "text/plain": [
       "array('i', [1, 2, 3, 4, 5, 6])"
      ]
     },
     "execution_count": 2,
     "metadata": {},
     "output_type": "execute_result"
    }
   ],
   "source": [
    "#a=array.array('i', [1,2,3,4,5,6])\n",
    "#a"
   ]
  },
  {
   "cell_type": "code",
   "execution_count": 8,
   "id": "5fdf1e4f-a1cf-498a-8f57-1c7f829dbb88",
   "metadata": {},
   "outputs": [],
   "source": [
    "import array as arr"
   ]
  },
  {
   "cell_type": "code",
   "execution_count": 30,
   "id": "4be419eb-b622-4303-b6e2-b8216d20f2bc",
   "metadata": {},
   "outputs": [
    {
     "data": {
      "text/plain": [
       "array('i', [1, 2, 3, 4, 5])"
      ]
     },
     "execution_count": 30,
     "metadata": {},
     "output_type": "execute_result"
    }
   ],
   "source": [
    "a=arr.array('i', [1,2,3,4,5])\n",
    "a"
   ]
  },
  {
   "cell_type": "code",
   "execution_count": 7,
   "id": "1bd358a9-e3a7-449b-ba89-46f2a8e2cd16",
   "metadata": {},
   "outputs": [],
   "source": [
    "#from array import *"
   ]
  },
  {
   "cell_type": "code",
   "execution_count": 27,
   "id": "92e12643-b057-4a49-ba53-37b319bf8c5a",
   "metadata": {},
   "outputs": [
    {
     "name": "stdout",
     "output_type": "stream",
     "text": [
      "array('i', [23, 12, 24, 23, 54, 21, 10])\n"
     ]
    }
   ],
   "source": [
    "b=array('i', [23,12,24,23,54,21,10])\n",
    "print(b)"
   ]
  },
  {
   "cell_type": "markdown",
   "id": "dc6a1325-234f-494e-9390-ce569cd0b5f4",
   "metadata": {},
   "source": [
    "## Accessing array elements"
   ]
  },
  {
   "cell_type": "code",
   "execution_count": 11,
   "id": "9201119a-9cb5-4cd1-9ae4-dfc61f3e8c7d",
   "metadata": {},
   "outputs": [
    {
     "data": {
      "text/plain": [
       "3"
      ]
     },
     "execution_count": 11,
     "metadata": {},
     "output_type": "execute_result"
    }
   ],
   "source": [
    "a[2]"
   ]
  },
  {
   "cell_type": "code",
   "execution_count": 12,
   "id": "e2f58490-f84d-4e52-aecd-40727481fe2f",
   "metadata": {},
   "outputs": [
    {
     "data": {
      "text/plain": [
       "5"
      ]
     },
     "execution_count": 12,
     "metadata": {},
     "output_type": "execute_result"
    }
   ],
   "source": [
    "a[-1]"
   ]
  },
  {
   "cell_type": "markdown",
   "id": "0a30281c-593f-4f5f-a195-c7e8b8dc52de",
   "metadata": {},
   "source": [
    "## Basic Array Operarions"
   ]
  },
  {
   "cell_type": "code",
   "execution_count": 13,
   "id": "a8aec531-a058-4ddb-87df-5e5748826cc5",
   "metadata": {},
   "outputs": [
    {
     "data": {
      "text/plain": [
       "5"
      ]
     },
     "execution_count": 13,
     "metadata": {},
     "output_type": "execute_result"
    }
   ],
   "source": [
    "len(a)"
   ]
  },
  {
   "cell_type": "code",
   "execution_count": 31,
   "id": "5dccfe16-1144-4177-9a66-c32d9ceadaac",
   "metadata": {},
   "outputs": [
    {
     "data": {
      "text/plain": [
       "array('i', [1, 2, 3, 4, 5, 76])"
      ]
     },
     "execution_count": 31,
     "metadata": {},
     "output_type": "execute_result"
    }
   ],
   "source": [
    "a.append(76)\n",
    "a"
   ]
  },
  {
   "cell_type": "code",
   "execution_count": 32,
   "id": "035e6273-24e6-437d-96a5-d8703e2c6afe",
   "metadata": {},
   "outputs": [
    {
     "data": {
      "text/plain": [
       "array('i', [1, 2, 3, 4, 5, 76, 45, 34, 21])"
      ]
     },
     "execution_count": 32,
     "metadata": {},
     "output_type": "execute_result"
    }
   ],
   "source": [
    "a.extend([45,34,21])\n",
    "a"
   ]
  },
  {
   "cell_type": "code",
   "execution_count": 33,
   "id": "eee3feea-2e57-4743-af58-d3040bab7ec7",
   "metadata": {},
   "outputs": [
    {
     "data": {
      "text/plain": [
       "array('i', [1, 2, 100, 3, 4, 5, 76, 45, 34, 21])"
      ]
     },
     "execution_count": 33,
     "metadata": {},
     "output_type": "execute_result"
    }
   ],
   "source": [
    "a.insert(2,100)\n",
    "a"
   ]
  },
  {
   "cell_type": "code",
   "execution_count": 34,
   "id": "18b5eed4-81e6-4ebe-a294-3819544cadab",
   "metadata": {},
   "outputs": [
    {
     "name": "stdout",
     "output_type": "stream",
     "text": [
      "array('i', [1, 2, 100, 3, 4, 5, 76, 45, 34])\n",
      "array('i', [1, 2, 100, 4, 5, 76, 45, 34])\n",
      "array('i', [1, 2, 4, 5, 76, 45, 34])\n"
     ]
    }
   ],
   "source": [
    "a.pop()\n",
    "print(a)\n",
    "a.pop(3)\n",
    "print(a)\n",
    "a.remove(100)\n",
    "print(a)"
   ]
  },
  {
   "cell_type": "code",
   "execution_count": 20,
   "id": "220a8bb5-ec05-413e-80d9-bff6d2cd7068",
   "metadata": {},
   "outputs": [
    {
     "data": {
      "text/plain": [
       "5"
      ]
     },
     "execution_count": 20,
     "metadata": {},
     "output_type": "execute_result"
    }
   ],
   "source": [
    "a.pop(2)"
   ]
  },
  {
   "cell_type": "code",
   "execution_count": 21,
   "id": "551f44b4-2004-4b5a-90aa-3ebe59ec8ed6",
   "metadata": {},
   "outputs": [
    {
     "name": "stdout",
     "output_type": "stream",
     "text": [
      "array('i', [1, 2, 76])\n"
     ]
    }
   ],
   "source": [
    "print(a)"
   ]
  },
  {
   "cell_type": "code",
   "execution_count": 22,
   "id": "e12b6455-971a-4b15-adde-e15c9eb71689",
   "metadata": {},
   "outputs": [
    {
     "name": "stdout",
     "output_type": "stream",
     "text": [
      "array('d', [2.1, 1.3, 2.5, 1.6, 1.8, 2.6, 1.9])\n"
     ]
    }
   ],
   "source": [
    "x=arr.array('d', [2.1,1.3,2.5,1.6])\n",
    "y=arr.array('d',[1.8,2.6,1.9])\n",
    "#z=arr.array('d')\n",
    "z=x+y\n",
    "print(z)"
   ]
  },
  {
   "cell_type": "code",
   "execution_count": 24,
   "id": "fdbb9552-6cf7-4de4-be00-f6f46759ac1e",
   "metadata": {},
   "outputs": [
    {
     "name": "stdout",
     "output_type": "stream",
     "text": [
      "array('d', [2.1, 1.3, 2.5])\n"
     ]
    }
   ],
   "source": [
    "print(z[0:3])"
   ]
  },
  {
   "cell_type": "code",
   "execution_count": 25,
   "id": "1ba2923f-a6d5-4207-82ce-b3300e2b01dd",
   "metadata": {},
   "outputs": [
    {
     "name": "stdout",
     "output_type": "stream",
     "text": [
      "array('d', [2.1, 1.3, 2.5, 1.6, 1.8, 2.6, 1.9])\n"
     ]
    }
   ],
   "source": [
    "print(z[::])"
   ]
  },
  {
   "cell_type": "code",
   "execution_count": 26,
   "id": "249040a5-28bb-4869-97b5-0ee92e805f87",
   "metadata": {},
   "outputs": [
    {
     "data": {
      "text/plain": [
       "array('d', [2.1, 1.3, 2.5, 1.6, 1.8])"
      ]
     },
     "execution_count": 26,
     "metadata": {},
     "output_type": "execute_result"
    }
   ],
   "source": [
    "z[0:-2]"
   ]
  },
  {
   "cell_type": "code",
   "execution_count": 35,
   "id": "24543eac-02ac-48fe-b6b2-faa27c6b8fc9",
   "metadata": {},
   "outputs": [
    {
     "data": {
      "text/plain": [
       "array('d', [1.9, 2.6, 1.8, 1.6, 2.5, 1.3, 2.1])"
      ]
     },
     "execution_count": 35,
     "metadata": {},
     "output_type": "execute_result"
    }
   ],
   "source": [
    "z[::-1]"
   ]
  },
  {
   "cell_type": "code",
   "execution_count": 36,
   "id": "19f6a34e-eb5f-4240-82ee-87cd320cbd83",
   "metadata": {},
   "outputs": [
    {
     "data": {
      "text/plain": [
       "array('d', [2.1, 1.3, 2.5, 1.6, 1.8, 2.6, 1.9])"
      ]
     },
     "execution_count": 36,
     "metadata": {},
     "output_type": "execute_result"
    }
   ],
   "source": [
    "z"
   ]
  },
  {
   "cell_type": "code",
   "execution_count": 37,
   "id": "9065396e-5c62-4f3a-9994-bc316daf7453",
   "metadata": {},
   "outputs": [
    {
     "name": "stdout",
     "output_type": "stream",
     "text": [
      "All values of z\n",
      "2.1\n",
      "1.3\n",
      "2.5\n",
      "1.6\n",
      "1.8\n",
      "2.6\n",
      "1.9\n"
     ]
    }
   ],
   "source": [
    "print(\"All values of z\")\n",
    "for m in z:\n",
    "    print(m)"
   ]
  },
  {
   "cell_type": "code",
   "execution_count": 38,
   "id": "09383b67-8990-4939-9749-13b828e1a819",
   "metadata": {},
   "outputs": [
    {
     "name": "stdout",
     "output_type": "stream",
     "text": [
      "2.1\n",
      "1.3\n",
      "2.5\n",
      "1.6\n"
     ]
    }
   ],
   "source": [
    "for m in z[0:-3]:\n",
    "    print(m)"
   ]
  },
  {
   "cell_type": "code",
   "execution_count": 39,
   "id": "f1656fa6-718f-40af-a8c7-09d795ec7420",
   "metadata": {},
   "outputs": [
    {
     "name": "stdout",
     "output_type": "stream",
     "text": [
      "2.1\n",
      "1.3\n",
      "2.5\n",
      "1.6\n",
      "1.8\n",
      "2.6\n",
      "1.9\n"
     ]
    }
   ],
   "source": [
    "n=0\n",
    "while n<len(z):\n",
    "    print(z[n])\n",
    "    n=n+1"
   ]
  },
  {
   "cell_type": "code",
   "execution_count": 40,
   "id": "1677ee93-6fac-4f07-b061-664b92c78629",
   "metadata": {},
   "outputs": [
    {
     "name": "stdout",
     "output_type": "stream",
     "text": [
      "2.1\n",
      "1.3\n",
      "2.5\n"
     ]
    }
   ],
   "source": [
    "temp=0\n",
    "while temp<z[2]:\n",
    "    print(z[temp])\n",
    "    temp+=1"
   ]
  },
  {
   "cell_type": "markdown",
   "id": "5c842679-8abc-4a06-90c1-f1640b1cbf7b",
   "metadata": {},
   "source": [
    "# Hash Table and Hash Map"
   ]
  },
  {
   "cell_type": "code",
   "execution_count": 5,
   "id": "5b2e6d37-24d9-4c66-94aa-ec2b4d54e559",
   "metadata": {},
   "outputs": [
    {
     "name": "stdout",
     "output_type": "stream",
     "text": [
      "{'Dave': '001', 'Joe': '002', 'Jenny': '003'}\n"
     ]
    },
    {
     "data": {
      "text/plain": [
       "dict"
      ]
     },
     "execution_count": 5,
     "metadata": {},
     "output_type": "execute_result"
    }
   ],
   "source": [
    "# Hash table stores Key, value pairs. Key is generated by Hash function.\n",
    "# Hash table or Hash map are implemented using built-in dictionary data type\n",
    "my_dict={'Dave':'001', 'Joe':'002', 'Jenny':'003'}\n",
    "print(my_dict)\n",
    "type(my_dict)"
   ]
  },
  {
   "cell_type": "code",
   "execution_count": 6,
   "id": "d372ccea-f4fa-4bf7-8a8b-aa0411f4a1e6",
   "metadata": {},
   "outputs": [
    {
     "name": "stdout",
     "output_type": "stream",
     "text": [
      "{}\n"
     ]
    },
    {
     "data": {
      "text/plain": [
       "dict"
      ]
     },
     "execution_count": 6,
     "metadata": {},
     "output_type": "execute_result"
    }
   ],
   "source": [
    "new_dict=dict()\n",
    "print(new_dict)\n",
    "type(new_dict)"
   ]
  },
  {
   "cell_type": "code",
   "execution_count": 7,
   "id": "2b089c09-13e6-4454-9f8a-930ee069fb04",
   "metadata": {},
   "outputs": [
    {
     "name": "stdout",
     "output_type": "stream",
     "text": [
      "{'Dave': '001', 'Joe': '002'}\n"
     ]
    }
   ],
   "source": [
    "new_dict=dict(Dave='001',Joe='002')\n",
    "print(new_dict)"
   ]
  },
  {
   "cell_type": "code",
   "execution_count": 8,
   "id": "eb00ba06-7746-404f-a08c-27baa3595770",
   "metadata": {},
   "outputs": [
    {
     "name": "stdout",
     "output_type": "stream",
     "text": [
      "{'Employee': {'Dave': {'ID': '001', 'Salary': '2000', 'Designation': 'Team Lead'}, 'AVa': {'ID': '001', 'Salary': '2000', 'Designation': 'Associate'}}}\n"
     ]
    }
   ],
   "source": [
    "emp_details={'Employee': { 'Dave':{'ID':'001', 'Salary':'2000','Designation':'Team Lead'}, \n",
    "                          'AVa': {'ID':'001', 'Salary':'2000','Designation':'Associate'}}}\n",
    "print(emp_details)"
   ]
  },
  {
   "cell_type": "markdown",
   "id": "4e836c20-ffc8-4afc-bdbf-471258c418ae",
   "metadata": {},
   "source": [
    "## Hash Table Operation"
   ]
  },
  {
   "cell_type": "code",
   "execution_count": 10,
   "id": "d205d995-9b9b-4ea7-8f88-2db17a73fba1",
   "metadata": {},
   "outputs": [
    {
     "data": {
      "text/plain": [
       "'001'"
      ]
     },
     "execution_count": 10,
     "metadata": {},
     "output_type": "execute_result"
    }
   ],
   "source": [
    "my_dict['Dave']"
   ]
  },
  {
   "cell_type": "code",
   "execution_count": 11,
   "id": "f76b72f1-1832-448b-b264-892bd3dd7879",
   "metadata": {},
   "outputs": [
    {
     "name": "stdout",
     "output_type": "stream",
     "text": [
      "{'Dave': '001', 'Joe': '002', 'Jenny': '003'}\n"
     ]
    }
   ],
   "source": [
    "print(my_dict)"
   ]
  },
  {
   "cell_type": "code",
   "execution_count": 12,
   "id": "9bfd0751-1144-401b-93cc-0469d2797db3",
   "metadata": {},
   "outputs": [
    {
     "name": "stdout",
     "output_type": "stream",
     "text": [
      "dict_keys(['Dave', 'Joe', 'Jenny'])\n"
     ]
    }
   ],
   "source": [
    "print(my_dict.keys())"
   ]
  },
  {
   "cell_type": "code",
   "execution_count": 13,
   "id": "10207ce9-c2cb-4531-8dab-6332fe0e45af",
   "metadata": {},
   "outputs": [
    {
     "name": "stdout",
     "output_type": "stream",
     "text": [
      "dict_values(['001', '002', '003'])\n"
     ]
    }
   ],
   "source": [
    "print(my_dict.values())"
   ]
  },
  {
   "cell_type": "code",
   "execution_count": 15,
   "id": "653eb2e9-250b-46d4-b37c-b7526bf4d8c7",
   "metadata": {},
   "outputs": [
    {
     "name": "stdout",
     "output_type": "stream",
     "text": [
      "002\n"
     ]
    }
   ],
   "source": [
    "print(my_dict.get('Joe'))"
   ]
  },
  {
   "cell_type": "code",
   "execution_count": 16,
   "id": "98e37113-ef79-4393-ae07-3c20cb0516f6",
   "metadata": {},
   "outputs": [
    {
     "name": "stdout",
     "output_type": "stream",
     "text": [
      "Dave\n",
      "Joe\n",
      "Jenny\n"
     ]
    }
   ],
   "source": [
    "for x in my_dict:\n",
    "    print(x)"
   ]
  },
  {
   "cell_type": "code",
   "execution_count": 17,
   "id": "df67d762-ccac-4a0c-9952-fe4740315914",
   "metadata": {},
   "outputs": [
    {
     "name": "stdout",
     "output_type": "stream",
     "text": [
      "001\n",
      "002\n",
      "003\n"
     ]
    }
   ],
   "source": [
    "for x in my_dict.values():\n",
    "    print(x)"
   ]
  },
  {
   "cell_type": "code",
   "execution_count": 18,
   "id": "e2b76a97-b754-4e6e-be29-6cf839d0308a",
   "metadata": {},
   "outputs": [
    {
     "name": "stdout",
     "output_type": "stream",
     "text": [
      "Dave 001\n",
      "Joe 002\n",
      "Jenny 003\n"
     ]
    }
   ],
   "source": [
    "for x,y in my_dict.items():\n",
    "    print(x,y)"
   ]
  },
  {
   "cell_type": "code",
   "execution_count": 21,
   "id": "d2408755-6005-4d4a-97e8-ae7ff46b5e6f",
   "metadata": {},
   "outputs": [
    {
     "name": "stdout",
     "output_type": "stream",
     "text": [
      "{'Dave': '004', 'Joe': '002', 'Jenny': '003', 'Chris': '005'}\n"
     ]
    }
   ],
   "source": [
    "my_dict['Dave']='004'\n",
    "my_dict['Chris']='005'\n",
    "print(my_dict)"
   ]
  },
  {
   "cell_type": "code",
   "execution_count": 22,
   "id": "58a4fbfb-e226-44bb-9af0-72b21f69aeb6",
   "metadata": {},
   "outputs": [
    {
     "data": {
      "text/plain": [
       "'002'"
      ]
     },
     "execution_count": 22,
     "metadata": {},
     "output_type": "execute_result"
    }
   ],
   "source": [
    "my_dict.pop('Joe')"
   ]
  },
  {
   "cell_type": "code",
   "execution_count": 23,
   "id": "dff8264b-520e-4cc2-9da3-cc38746f9693",
   "metadata": {},
   "outputs": [
    {
     "data": {
      "text/plain": [
       "('Chris', '005')"
      ]
     },
     "execution_count": 23,
     "metadata": {},
     "output_type": "execute_result"
    }
   ],
   "source": [
    "my_dict.popitem()"
   ]
  },
  {
   "cell_type": "code",
   "execution_count": 24,
   "id": "de175d9b-a69c-479e-bbd5-10cc6259cf06",
   "metadata": {},
   "outputs": [
    {
     "name": "stdout",
     "output_type": "stream",
     "text": [
      "{'Jenny': '003'}\n"
     ]
    }
   ],
   "source": [
    "del my_dict['Dave']\n",
    "print(my_dict)"
   ]
  },
  {
   "cell_type": "code",
   "execution_count": 27,
   "id": "5701f5a4-216f-4cdd-81a1-4799a184ed98",
   "metadata": {},
   "outputs": [
    {
     "name": "stdout",
     "output_type": "stream",
     "text": [
      "                  Dave        AVa\n",
      "ID                 001        001\n",
      "Salary            2000       2000\n",
      "Designation  Team Lead  Associate\n"
     ]
    }
   ],
   "source": [
    "# Data Fram is a 2 Dimensional data structure that consists of columns of various types\n",
    "# Convert dictionary in to data frame\n",
    "import pandas as pd\n",
    "df=pd.DataFrame(emp_details['Employee'])\n",
    "print(df)"
   ]
  },
  {
   "cell_type": "markdown",
   "id": "32049b1d-8e2a-4aac-9e1e-ad4ba0e74ed0",
   "metadata": {},
   "source": [
    "# Operators"
   ]
  },
  {
   "cell_type": "code",
   "execution_count": 19,
   "id": "226624e9-4a47-46d0-ad89-2b8901fddcb9",
   "metadata": {},
   "outputs": [
    {
     "data": {
      "text/plain": [
       "False"
      ]
     },
     "execution_count": 19,
     "metadata": {},
     "output_type": "execute_result"
    }
   ],
   "source": [
    "list1=[10,20,30,40,]\n",
    "list2=[10,20,30,40]\n",
    "x=list1"
   ]
  },
  {
   "cell_type": "markdown",
   "id": "c464f529-0647-439e-91c8-8ff853468a49",
   "metadata": {},
   "source": [
    "## Identity operator"
   ]
  },
  {
   "cell_type": "code",
   "execution_count": 7,
   "id": "ccab9af4-6d3e-4aba-9367-77b6c522f445",
   "metadata": {},
   "outputs": [
    {
     "data": {
      "text/plain": [
       "False"
      ]
     },
     "execution_count": 7,
     "metadata": {},
     "output_type": "execute_result"
    }
   ],
   "source": [
    "list1 is list2 # Identity Operator"
   ]
  },
  {
   "cell_type": "code",
   "execution_count": 8,
   "id": "8399bf84-735c-4015-81e9-3b48804a074d",
   "metadata": {},
   "outputs": [
    {
     "data": {
      "text/plain": [
       "True"
      ]
     },
     "execution_count": 8,
     "metadata": {},
     "output_type": "execute_result"
    }
   ],
   "source": [
    "list1 is not list2 # Identity Operator"
   ]
  },
  {
   "cell_type": "code",
   "execution_count": 9,
   "id": "55a6fcb1-12c2-49ad-8daa-5a16e2e9fd32",
   "metadata": {},
   "outputs": [
    {
     "data": {
      "text/plain": [
       "True"
      ]
     },
     "execution_count": 9,
     "metadata": {},
     "output_type": "execute_result"
    }
   ],
   "source": [
    "x is list1 # Identity Operator"
   ]
  },
  {
   "cell_type": "markdown",
   "id": "52d71323-1fe7-496a-97aa-f85d22e22b89",
   "metadata": {},
   "source": [
    "## Membership operator"
   ]
  },
  {
   "cell_type": "code",
   "execution_count": 22,
   "id": "2663af11-38f9-40db-9855-959eab622655",
   "metadata": {},
   "outputs": [
    {
     "data": {
      "text/plain": [
       "False"
      ]
     },
     "execution_count": 22,
     "metadata": {},
     "output_type": "execute_result"
    }
   ],
   "source": [
    "x in list1"
   ]
  },
  {
   "cell_type": "code",
   "execution_count": 10,
   "id": "e91344fc-bd03-4688-ba39-6651dbc48380",
   "metadata": {},
   "outputs": [
    {
     "data": {
      "text/plain": [
       "False"
      ]
     },
     "execution_count": 10,
     "metadata": {},
     "output_type": "execute_result"
    }
   ],
   "source": [
    "list1 in list2"
   ]
  },
  {
   "cell_type": "code",
   "execution_count": 11,
   "id": "b1679d0d-a7c2-41be-b661-9b83ce16909d",
   "metadata": {},
   "outputs": [
    {
     "data": {
      "text/plain": [
       "True"
      ]
     },
     "execution_count": 11,
     "metadata": {},
     "output_type": "execute_result"
    }
   ],
   "source": [
    "10 in list1"
   ]
  },
  {
   "cell_type": "code",
   "execution_count": 12,
   "id": "c54d3349-751d-4e9b-ba16-60f469d33cc8",
   "metadata": {},
   "outputs": [
    {
     "data": {
      "text/plain": [
       "False"
      ]
     },
     "execution_count": 12,
     "metadata": {},
     "output_type": "execute_result"
    }
   ],
   "source": [
    "[10,20,30,40] in list2"
   ]
  },
  {
   "cell_type": "code",
   "execution_count": 17,
   "id": "909f40bb-7770-4cc0-b650-e9e1067e85a8",
   "metadata": {},
   "outputs": [
    {
     "data": {
      "text/plain": [
       "True"
      ]
     },
     "execution_count": 17,
     "metadata": {},
     "output_type": "execute_result"
    }
   ],
   "source": [
    "'banana' in list1"
   ]
  },
  {
   "cell_type": "code",
   "execution_count": 21,
   "id": "92161347-b619-4355-82bc-2d2f25efb3ba",
   "metadata": {},
   "outputs": [
    {
     "data": {
      "text/plain": [
       "True"
      ]
     },
     "execution_count": 21,
     "metadata": {},
     "output_type": "execute_result"
    }
   ],
   "source": [
    "list1==list2"
   ]
  },
  {
   "cell_type": "markdown",
   "id": "36387a36-782f-44a9-b21f-e45e2dc4b484",
   "metadata": {},
   "source": [
    "## Bitwise Operator"
   ]
  },
  {
   "cell_type": "code",
   "execution_count": 24,
   "id": "2bde5f4c-4541-4b86-959b-e6ff27c6fa49",
   "metadata": {},
   "outputs": [
    {
     "data": {
      "text/plain": [
       "8"
      ]
     },
     "execution_count": 24,
     "metadata": {},
     "output_type": "execute_result"
    }
   ],
   "source": [
    "10 & 12"
   ]
  },
  {
   "cell_type": "code",
   "execution_count": 25,
   "id": "4c959ea5-2494-4132-833d-11b4bc28d091",
   "metadata": {},
   "outputs": [
    {
     "data": {
      "text/plain": [
       "14"
      ]
     },
     "execution_count": 25,
     "metadata": {},
     "output_type": "execute_result"
    }
   ],
   "source": [
    "10 | 12"
   ]
  },
  {
   "cell_type": "code",
   "execution_count": 27,
   "id": "165cf892-478a-4b05-a700-0df7829b3c37",
   "metadata": {},
   "outputs": [
    {
     "data": {
      "text/plain": [
       "2"
      ]
     },
     "execution_count": 27,
     "metadata": {},
     "output_type": "execute_result"
    }
   ],
   "source": [
    "10>>2"
   ]
  },
  {
   "cell_type": "code",
   "execution_count": 28,
   "id": "03e261e9-19d5-4009-a481-b07db2b4941b",
   "metadata": {},
   "outputs": [
    {
     "data": {
      "text/plain": [
       "40"
      ]
     },
     "execution_count": 28,
     "metadata": {},
     "output_type": "execute_result"
    }
   ],
   "source": [
    "10<<2"
   ]
  },
  {
   "cell_type": "markdown",
   "id": "ca73adb8-8f79-4cb0-97ff-299b8c112fb2",
   "metadata": {},
   "source": [
    "# Nested while for loop"
   ]
  },
  {
   "cell_type": "code",
   "execution_count": 30,
   "id": "d2d10ca5-96de-4db8-9f86-1ca8cbc9deee",
   "metadata": {},
   "outputs": [
    {
     "name": "stdin",
     "output_type": "stream",
     "text": [
      "Yes or No Yes\n",
      "Enter number of people travelling 1\n",
      "Name : anitha\n",
      "Age: 24\n",
      "Male or Female Female\n"
     ]
    },
    {
     "name": "stdout",
     "output_type": "stream",
     "text": [
      "anitha\n",
      "24\n",
      "Female\n"
     ]
    },
    {
     "name": "stdin",
     "output_type": "stream",
     "text": [
      "OOPS! Forgot Someone?? No\n"
     ]
    }
   ],
   "source": [
    "travelling=input(\"Yes or No\")\n",
    "while travelling=='Yes':\n",
    "    num=int(input(\"Enter number of people travelling\"))\n",
    "    for num in range(1, num+1):\n",
    "            name = input (\"Name :\")\n",
    "            age = input (\"Age:\")\n",
    "            sex=input(\"Male or Female\")\n",
    "            print(name)\n",
    "            print(age)\n",
    "            print(sex)\n",
    "    travelling=input(\"OOPS! Forgot Someone??\")"
   ]
  },
  {
   "cell_type": "code",
   "execution_count": null,
   "id": "3a0fca4f-626f-49d3-a2d4-1eb6c7b46f13",
   "metadata": {},
   "outputs": [],
   "source": []
  }
 ],
 "metadata": {
  "kernelspec": {
   "display_name": "Python 3 (ipykernel)",
   "language": "python",
   "name": "python3"
  },
  "language_info": {
   "codemirror_mode": {
    "name": "ipython",
    "version": 3
   },
   "file_extension": ".py",
   "mimetype": "text/x-python",
   "name": "python",
   "nbconvert_exporter": "python",
   "pygments_lexer": "ipython3",
   "version": "3.11.7"
  }
 },
 "nbformat": 4,
 "nbformat_minor": 5
}
