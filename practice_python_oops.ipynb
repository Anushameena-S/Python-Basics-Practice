{
 "cells": [
  {
   "cell_type": "code",
   "execution_count": 2,
   "id": "048c09be-6654-41f5-aabd-2661dc0605ba",
   "metadata": {},
   "outputs": [
    {
     "name": "stdout",
     "output_type": "stream",
     "text": [
      "city\n"
     ]
    }
   ],
   "source": [
    "class Car():\n",
    "    pass\n",
    "honda=Car()\n",
    "tata=Car()\n",
    "\n",
    "honda.modelname='city'\n",
    "honda.yearofm=2016\n",
    "honda.price=200000\n",
    "\n",
    "tata.modelname='nano'\n",
    "tata.yearofm=2018\n",
    "tata.price=100000\n",
    "\n",
    "print(honda.modelname)"
   ]
  },
  {
   "cell_type": "code",
   "execution_count": 7,
   "id": "d358bd8d-f064-400f-81ad-5d2c186c456d",
   "metadata": {},
   "outputs": [
    {
     "name": "stdout",
     "output_type": "stream",
     "text": [
      "city\n",
      "{'modelname': 'city', 'yearofm': 2016, 'price': 200000, 'cc': 1500}\n",
      "{'modelname': 'nano', 'yearofm': 2018, 'price': 100000}\n",
      "200000\n",
      "229999\n"
     ]
    }
   ],
   "source": [
    "class Car():\n",
    "    \n",
    "    def __init__(self,modelname,yearofm,price):\n",
    "        self.modelname=modelname\n",
    "        self.yearofm=yearofm\n",
    "        self.price=price\n",
    "        \n",
    "    def price_inc(self):\n",
    "        self.price=int(self.price*1.15)\n",
    "    \n",
    "            \n",
    "honda=Car('city', 2016,200000)\n",
    "tata=Car('nano',2018,100000)\n",
    "honda.cc=1500\n",
    "print(honda.modelname)\n",
    "print(honda.__dict__)\n",
    "print(tata.__dict__)\n",
    "print(honda.price)\n",
    "honda.price_inc()\n",
    "print(honda.price)"
   ]
  },
  {
   "cell_type": "code",
   "execution_count": 4,
   "id": "f1486b45-677e-45e0-ab94-c4eb5cd1bdb8",
   "metadata": {},
   "outputs": [
    {
     "name": "stdout",
     "output_type": "stream",
     "text": [
      "Help on SuperCar in module __main__ object:\n",
      "\n",
      "class SuperCar(Car)\n",
      " |  SuperCar(modelname, yearofm, price)\n",
      " |  \n",
      " |  Method resolution order:\n",
      " |      SuperCar\n",
      " |      Car\n",
      " |      builtins.object\n",
      " |  \n",
      " |  Methods inherited from Car:\n",
      " |  \n",
      " |  __init__(self, modelname, yearofm, price)\n",
      " |      Initialize self.  See help(type(self)) for accurate signature.\n",
      " |  \n",
      " |  ----------------------------------------------------------------------\n",
      " |  Data descriptors inherited from Car:\n",
      " |  \n",
      " |  __dict__\n",
      " |      dictionary for instance variables\n",
      " |  \n",
      " |  __weakref__\n",
      " |      list of weak references to the object\n",
      "\n",
      "None\n",
      "200000\n"
     ]
    }
   ],
   "source": [
    "class Car():\n",
    "    \n",
    "    def __init__(self,modelname,yearofm,price):\n",
    "        self.modelname=modelname\n",
    "        self.yearofm=yearofm\n",
    "        self.price=price\n",
    "class SuperCar(Car):\n",
    "        pass\n",
    "honda=SuperCar('city', 2017, 200000)\n",
    "tata=('bolt',2018,300000)\n",
    "honda.cc=1500\n",
    "print(help(honda))\n",
    "print(honda.price)"
   ]
  },
  {
   "cell_type": "code",
   "execution_count": 17,
   "id": "80db47bb-159d-4658-b565-8ea72a8f8231",
   "metadata": {},
   "outputs": [
    {
     "name": "stdout",
     "output_type": "stream",
     "text": [
      "Welcome 23 python\n"
     ]
    }
   ],
   "source": [
    "class Parent:\n",
    "    def __init__(self, fname,age):\n",
    "        self.name=fname\n",
    "        self.age=age\n",
    "    def view(self):\n",
    "        print(self.name,self.age)\n",
    "class Child(Parent):\n",
    "    def __init__(self,fname,age):\n",
    "        Parent.__init__(self,fname,age)\n",
    "        self.lastname=\"python\"\n",
    "    def view(self):\n",
    "        print(self.name, self.age, self.lastname)\n",
    "obj=Child('Welcome',23)\n",
    "obj.view()"
   ]
  },
  {
   "cell_type": "markdown",
   "id": "03d85490-bde2-4d50-b993-e77d4ceeb7c2",
   "metadata": {},
   "source": [
    "# Exception Handling"
   ]
  },
  {
   "cell_type": "code",
   "execution_count": 7,
   "id": "0e16828a-c755-47e3-a395-3c3ac1cc873c",
   "metadata": {},
   "outputs": [
    {
     "name": "stdout",
     "output_type": "stream",
     "text": [
      "[Errno 2] No such file or directory: 'file.log'\n",
      "Cleaning up, irrespective of any exceptions\n"
     ]
    }
   ],
   "source": [
    "try:\n",
    "    #linux_interaction()\n",
    "#except AssertionError as error:\n",
    "    #print(error)\n",
    "    #print('Linux linux_interaction() function was not executed')\n",
    "#else:\n",
    "    try:\n",
    "        with open('file.log') as file:\n",
    "            read_data=file.read()\n",
    "    except FileNotFoundError as fnf_error:\n",
    "        print(fnf_error)\n",
    "finally:\n",
    "    print(\"Cleaning up, irrespective of any exceptibbbons\")"
   ]
  },
  {
   "cell_type": "markdown",
   "id": "22e1ba50-e633-465e-91ce-d9df40f918b4",
   "metadata": {},
   "source": [
    "# Modules"
   ]
  },
  {
   "cell_type": "code",
   "execution_count": 8,
   "id": "dbf289b4-eb33-4aad-84d7-0bd8a0e118a2",
   "metadata": {},
   "outputs": [
    {
     "name": "stdout",
     "output_type": "stream",
     "text": [
      "25\n"
     ]
    }
   ],
   "source": [
    "import practice_python_mod as md\n",
    "addition=md.add(10,15)\n",
    "print(addition) "
   ]
  },
  {
   "cell_type": "code",
   "execution_count": 15,
   "id": "a2167b95-d63b-4b31-8c09-2736ca00bd95",
   "metadata": {},
   "outputs": [
    {
     "name": "stdout",
     "output_type": "stream",
     "text": [
      "33\n"
     ]
    }
   ],
   "source": [
    "from practice_python_mod import *\n",
    "result=add(18,15)\n",
    "print(result)"
   ]
  },
  {
   "cell_type": "code",
   "execution_count": 16,
   "id": "789dc921-253e-4462-8805-56bb4b3cd747",
   "metadata": {},
   "outputs": [
    {
     "name": "stdout",
     "output_type": "stream",
     "text": [
      "\n",
      "Please wait a moment while I gather a list of all available modules...\n",
      "\n"
     ]
    },
    {
     "name": "stderr",
     "output_type": "stream",
     "text": [
      "C:\\Users\\Anusha\\anaconda3\\Lib\\site-packages\\paramiko\\transport.py:219: CryptographyDeprecationWarning: Blowfish has been deprecated and will be removed in a future release\n",
      "  \"class\": algorithms.Blowfish,\n",
      "C:\\Users\\Anusha\\anaconda3\\Lib\\site-packages\\nltk\\twitter\\__init__.py:20: UserWarning: The twython library has not been installed. Some functionality from the twitter package will not be available.\n",
      "  warnings.warn(\n",
      "C:\\Users\\Anusha\\anaconda3\\Lib\\pkgutil.py:92: UserWarning: The numpy.array_api submodule is still experimental. See NEP 47.\n",
      "  __import__(info.name)\n",
      "C:\\Users\\Anusha\\anaconda3\\Lib\\site-packages\\_distutils_hack\\__init__.py:33: UserWarning: Setuptools is replacing distutils.\n",
      "  warnings.warn(\"Setuptools is replacing distutils.\")\n",
      "No QCoreApplication instance found. Application patches not applied. You have to call load_stylesheet function after instantiation of QApplication to take effect. \n"
     ]
    },
    {
     "name": "stdout",
     "output_type": "stream",
     "text": [
      "6c7190bc8b55ffe67f57__mypyc compileall          mdurl               smmap\n",
      "IPython             concurrent          menuinst            smtpd\n",
      "OpenSSL             conda               mimetypes           smtplib\n",
      "PIL                 conda_build         mistune             snappy\n",
      "PyQt5               conda_content_trust mkl                 sndhdr\n",
      "__future__          conda_env           mkl_fft             sniffio\n",
      "__hello__           conda_index         mmap                snowballstemmer\n",
      "__phello__          conda_libmamba_solver mmapfile            socket\n",
      "_abc                conda_pack          mmsystem            socketserver\n",
      "_aix_support        conda_package_handling modulefinder        socks\n",
      "_argon2_cffi_bindings conda_package_streaming more_itertools      sockshandler\n",
      "_ast                conda_token         mpmath              sortedcontainers\n",
      "_asyncio            conda_verify        msgpack             soupsieve\n",
      "_bisect             configparser        msilib              sphinx\n",
      "_black_version      constantly          msvcrt              spyder\n",
      "_blake2             contextlib          multidict           spyder_kernels\n",
      "_bootsubprocess     contextvars         multipledispatch    sqlalchemy\n",
      "_brotli             contourpy           multiprocessing     sqlite3\n",
      "_bz2                cookiecutter        munkres             sre_compile\n",
      "_cffi_backend       copy                mypy                sre_constants\n",
      "_codecs             copyreg             mypy_extensions     sre_parse\n",
      "_codecs_cn          cpuinfo             mypyc               ssl\n",
      "_codecs_hk          crypt               nacl                sspi\n",
      "_codecs_iso2022     cryptography        navigator_updater   sspicon\n",
      "_codecs_jp          cssselect           nbclient            stack_data\n",
      "_codecs_kr          csv                 nbconvert           stat\n",
      "_codecs_tw          ctypes              nbformat            statistics\n",
      "_collections        curl                nest_asyncio        statsmodels\n",
      "_collections_abc    curses              netbios             streamlit\n",
      "_compat_pickle      cwp                 netrc               string\n",
      "_compression        cycler              networkx            stringprep\n",
      "_contextvars        cytoolz             nltk                struct\n",
      "_csv                dask                nntplib             subprocess\n",
      "_ctypes             dataclasses         notebook            sunau\n",
      "_ctypes_test        datashader          notebook_shim       sympy\n",
      "_datetime           datetime            nt                  symtable\n",
      "_decimal            dateutil            ntpath              sys\n",
      "_distutils_hack     dbi                 ntsecuritycon       sysconfig\n",
      "_elementtree        dbm                 nturl2path          tables\n",
      "_functools          dde                 numba               tabnanny\n",
      "_hashlib            debugpy             numbergen           tabulate\n",
      "_heapq              decimal             numbers             tarfile\n",
      "_imp                decorator           numexpr             tblib\n",
      "_io                 defusedxml          numpy               telnetlib\n",
      "_json               diff_match_patch    numpydoc            tempfile\n",
      "_locale             difflib             odbc                tenacity\n",
      "_lsprof             dill                opcode              terminado\n",
      "_lzma               dis                 openpyxl            test\n",
      "_markupbase         distributed         operator            test_pycosat\n",
      "_md5                distro              optparse            text_unidecode\n",
      "_msi                distutils           os                  textdistance\n",
      "_multibytecodec     docstring_to_markdown overrides           textwrap\n",
      "_multiprocessing    doctest             packaging           this\n",
      "_nsis               docutils            pandas              threading\n",
      "_opcode             dotenv              pandocfilters       threadpoolctl\n",
      "_operator           email               panel               three_merge\n",
      "_osx_support        encodings           param               tifffile\n",
      "_overlapped         ensurepip           paramiko            time\n",
      "_pickle             entrypoints         parsel              timeit\n",
      "_plotly_future_     enum                parso               timer\n",
      "_plotly_utils       erfa                partd               tinycss2\n",
      "_py_abc             errno               past                tkinter\n",
      "_pydecimal          et_xmlfile          pathlib             tldextract\n",
      "_pyio               executing           pathspec            tlz\n",
      "_pytest             fastjsonschema      patsy               token\n",
      "_queue              faulthandler        pdb                 tokenize\n",
      "_random             filecmp             perfmon             toml\n",
      "_sha1               fileinput           pexpect             tomlkit\n",
      "_sha256             filelock            pickle              tomllib\n",
      "_sha3               flake8              pickleshare         toolz\n",
      "_sha512             flask               pickletools         tornado\n",
      "_signal             fnmatch             pip                 tqdm\n",
      "_sitebuiltins       fontTools           pipes               trace\n",
      "_socket             fractions           pkce                traceback\n",
      "_sqlite3            frozenlist          pkg_resources       tracemalloc\n",
      "_sre                fsspec              pkginfo             traitlets\n",
      "_ssl                ftplib              pkgutil             truststore\n",
      "_stat               functools           platform            tty\n",
      "_statistics         future              platformdirs        turtle\n",
      "_string             gc                  plistlib            turtledemo\n",
      "_strptime           genericpath         plotly              twisted\n",
      "_struct             gensim              pluggy              types\n",
      "_symtable           getopt              ply                 typing\n",
      "_system_path        getpass             poplib              typing_extensions\n",
      "_testbuffer         gettext             posixpath           tzdata\n",
      "_testcapi           git                 pprint              tzlocal\n",
      "_testconsole        gitdb               practice_python_mod uc_micro\n",
      "_testimportmultiple glob                profile             ujson\n",
      "_testinternalcapi   gmpy2               prometheus_client   unicodedata\n",
      "_testmultiphase     graphlib            prompt_toolkit      unidecode\n",
      "_thread             greenlet            protego             unittest\n",
      "_threading_local    gzip                pstats              urllib\n",
      "_tkinter            h5py                psutil              urllib3\n",
      "_tokenize           hashlib             pty                 uu\n",
      "_tracemalloc        heapdict            ptyprocess          uuid\n",
      "_typing             heapq               pure_eval           validators\n",
      "_uuid               hmac                py                  venv\n",
      "_warnings           holoviews           py_compile          w3lib\n",
      "_weakref            html                pyarrow             warnings\n",
      "_weakrefset         http                pyasn1              watchdog\n",
      "_win32sysloader     hvplot              pyasn1_modules      wave\n",
      "_winapi             hyperlink           pyclbr              wcwidth\n",
      "_winxptheme         idlelib             pycodestyle         weakref\n",
      "_xxsubinterpreters  idna                pycosat             webbrowser\n",
      "_yaml               imagecodecs         pycparser           webencodings\n",
      "_zoneinfo           imageio             pyct                websocket\n",
      "abc                 imagesize           pycurl              werkzeug\n",
      "adodbapi            imaplib             pydantic            whatthepatch\n",
      "afxres              imblearn            pydeck              wheel\n",
      "aifc                imghdr              pydispatch          widgetsnbextension\n",
      "aiobotocore         imp                 pydoc               win2kras\n",
      "aiohttp             importlib           pydoc_data          win32api\n",
      "aioitertools        importlib_metadata  pydocstyle          win32clipboard\n",
      "aiosignal           incremental         pyexpat             win32com\n",
      "alabaster           inflection          pyflakes            win32con\n",
      "altair              iniconfig           pygments            win32console\n",
      "anaconda_anon_usage inspect             pylab               win32cred\n",
      "anaconda_catalogs   intake              pylint              win32crypt\n",
      "anaconda_cloud_auth intervaltree        pylint_venv         win32cryptcon\n",
      "anaconda_navigator  io                  pyls_spyder         win32ctypes\n",
      "anaconda_project    ipaddress           pylsp               win32event\n",
      "antigravity         ipykernel           pylsp_black         win32evtlog\n",
      "anyio               ipykernel_launcher  pylsp_jsonrpc       win32evtlogutil\n",
      "appdirs             ipython_genutils    pymysql             win32file\n",
      "archspec            ipywidgets          pyodbc              win32gui\n",
      "argon2              isapi               pyparsing           win32gui_struct\n",
      "argparse            isort               pytest              win32help\n",
      "array               isympy              pythoncom           win32inet\n",
      "arrow               itemadapter         pythonjsonlogger    win32inetcon\n",
      "ast                 itemloaders         pytoolconfig        win32job\n",
      "astroid             itertools           pytz                win32lz\n",
      "astropy             itsdangerous        pyviz_comms         win32net\n",
      "asttokens           jedi                pywin               win32netcon\n",
      "async_lru           jellyfish           pywin32_bootstrap   win32pdh\n",
      "asynchat            jinja2              pywin32_testutil    win32pdhquery\n",
      "asyncio             jmespath            pywintypes          win32pdhutil\n",
      "asyncore            joblib              pywt                win32pipe\n",
      "atexit              json                qdarkstyle          win32print\n",
      "atomicwrites        json5               qstylizer           win32process\n",
      "attr                jsonpatch           qtawesome           win32profile\n",
      "attrs               jsonpointer         qtconsole           win32ras\n",
      "audioop             jsonschema          qtpy                win32rcparser\n",
      "automat             jsonschema_specifications queue               win32security\n",
      "autopep8            jupyter             queuelib            win32service\n",
      "babel               jupyter_client      quopri              win32serviceutil\n",
      "backports           jupyter_console     random              win32timezone\n",
      "base64              jupyter_core        rasutil             win32trace\n",
      "bcrypt              jupyter_events      re                  win32traceutil\n",
      "bdb                 jupyter_lsp         referencing         win32transaction\n",
      "binaryornot         jupyter_server      regcheck            win32ts\n",
      "binascii            jupyter_server_terminals regex               win32ui\n",
      "binstar_client      jupyterlab          regutil             win32uiole\n",
      "bisect              jupyterlab_plotly   repo_cli            win32verstamp\n",
      "black               jupyterlab_pygments reprlib             win32wnet\n",
      "blackd              jupyterlab_server   requests            win_inet_pton\n",
      "bleach              jupyterlab_widgets  requests_file       winerror\n",
      "blib2to3            jwt                 requests_toolbelt   winioctlcon\n",
      "blinker             keyring             rfc3339_validator   winnt\n",
      "bokeh               keyword             rfc3986_validator   winperf\n",
      "boltons             kiwisolver          rich                winpty\n",
      "botocore            lazy_loader         rlcompleter         winreg\n",
      "bottleneck          lazy_object_proxy   rope                winsound\n",
      "brotli              lckr_jupyterlab_variableinspector rpds                winxpgui\n",
      "bs4                 lib2to3             rtree               winxptheme\n",
      "builtins            libarchive          ruamel_yaml         wrapt\n",
      "bz2                 libfuturize         runpy               wsgiref\n",
      "cProfile            libmambapy          s3fs                xarray\n",
      "cachetools          libpasteurize       sched               xdrlib\n",
      "calendar            lief                scipy               xlwings\n",
      "certifi             linecache           scrapy              xml\n",
      "cffi                linkify_it          seaborn             xmlrpc\n",
      "cgi                 llvmlite            secrets             xxlimited\n",
      "cgitb               lmdb                select              xxlimited_35\n",
      "chardet             locale              selectors           xxsubtype\n",
      "charset_normalizer  locket              semver              xyzservices\n",
      "chunk               logging             send2trash          yaml\n",
      "click               lxml                service_identity    yapf\n",
      "cloudpickle         lz4                 servicemanager      yapftests\n",
      "clyent              lzma                setuptools          yarl\n",
      "cmath               mailbox             shelve              zict\n",
      "cmd                 mailcap             shlex               zipapp\n",
      "code                markdown            shutil              zipfile\n",
      "codecs              markdown_it         signal              zipimport\n",
      "codeop              markupsafe          sipbuild            zipp\n",
      "collections         marshal             site                zlib\n",
      "colorama            math                six                 zmq\n",
      "colorcet            matplotlib          skimage             zoneinfo\n",
      "colorsys            matplotlib_inline   sklearn             zope\n",
      "comm                mccabe              slugify             zstandard\n",
      "commctrl            mdit_py_plugins     smart_open          \n",
      "\n",
      "Enter any module name to get more help.  Or, type \"modules spam\" to search\n",
      "for modules whose name or summary contain the string \"spam\".\n",
      "\n"
     ]
    }
   ],
   "source": [
    "help('modules')"
   ]
  },
  {
   "cell_type": "code",
   "execution_count": 21,
   "id": "f275a826-59b2-4e3a-a4ae-0a3a9a33f4a2",
   "metadata": {},
   "outputs": [
    {
     "name": "stdout",
     "output_type": "stream",
     "text": [
      "['AbstractContextManager', 'Annotation', 'Arrow', 'Artist', 'AutoLocator', 'Axes', 'Button', 'Circle', 'Enum', 'ExitStack', 'Figure', 'FigureBase', 'FigureCanvasBase', 'FigureManagerBase', 'FixedFormatter', 'FixedLocator', 'FormatStrFormatter', 'Formatter', 'FuncFormatter', 'GridSpec', 'IndexLocator', 'Line2D', 'LinearLocator', 'Locator', 'LogFormatter', 'LogFormatterExponent', 'LogFormatterMathtext', 'LogLocator', 'MaxNLocator', 'MouseButton', 'MultipleLocator', 'Normalize', 'NullFormatter', 'NullLocator', 'PolarAxes', 'Polygon', 'Rectangle', 'ScalarFormatter', 'Slider', 'Subplot', 'SubplotSpec', 'TYPE_CHECKING', 'Text', 'TickHelper', 'Widget', '_REPL_DISPLAYHOOK', '_ReplDisplayHook', '__annotations__', '__builtins__', '__cached__', '__doc__', '__file__', '__loader__', '__name__', '__package__', '__spec__', '_api', '_auto_draw_if_interactive', '_backend_mod', '_color_sequences', '_colormaps', '_copy_docstring_and_deprecators', '_docstring', '_draw_all_if_interactive', '_get_backend_mod', '_get_pyplot_commands', '_log', '_pylab_helpers', '_warn_if_gui_out_of_main_thread', 'acorr', 'angle_spectrum', 'annotate', 'annotations', 'arrow', 'autoscale', 'autumn', 'axes', 'axhline', 'axhspan', 'axis', 'axline', 'axvline', 'axvspan', 'bar', 'bar_label', 'barbs', 'barh', 'bone', 'box', 'boxplot', 'broken_barh', 'cast', 'cbook', 'cla', 'clabel', 'clf', 'clim', 'close', 'cm', 'cohere', 'color_sequences', 'colorbar', 'colormaps', 'connect', 'contour', 'contourf', 'cool', 'copper', 'csd', 'cycler', 'delaxes', 'disconnect', 'draw', 'draw_all', 'draw_if_interactive', 'ecdf', 'errorbar', 'eventplot', 'figaspect', 'figimage', 'figlegend', 'fignum_exists', 'figtext', 'figure', 'fill', 'fill_between', 'fill_betweenx', 'findobj', 'flag', 'functools', 'gca', 'gcf', 'gci', 'get', 'get_backend', 'get_cmap', 'get_current_fig_manager', 'get_figlabels', 'get_fignums', 'get_plot_commands', 'get_scale_names', 'getp', 'ginput', 'gray', 'grid', 'hexbin', 'hist', 'hist2d', 'hlines', 'hot', 'hsv', 'importlib', 'imread', 'imsave', 'imshow', 'inferno', 'inspect', 'install_repl_displayhook', 'interactive', 'ioff', 'ion', 'isinteractive', 'jet', 'legend', 'locator_params', 'logging', 'loglog', 'magma', 'magnitude_spectrum', 'margins', 'matplotlib', 'matshow', 'minorticks_off', 'minorticks_on', 'mlab', 'new_figure_manager', 'nipy_spectral', 'np', 'overload', 'pause', 'pcolor', 'pcolormesh', 'phase_spectrum', 'pie', 'pink', 'plasma', 'plot', 'plot_date', 'polar', 'prism', 'psd', 'quiver', 'quiverkey', 'rc', 'rcParams', 'rcParamsDefault', 'rcParamsOrig', 'rc_context', 'rcdefaults', 'rcsetup', 're', 'register_cmap', 'rgrids', 'savefig', 'sca', 'scatter', 'sci', 'semilogx', 'semilogy', 'set_cmap', 'set_loglevel', 'setp', 'show', 'specgram', 'spring', 'spy', 'stackplot', 'stairs', 'stem', 'step', 'streamplot', 'style', 'subplot', 'subplot2grid', 'subplot_mosaic', 'subplot_tool', 'subplots', 'subplots_adjust', 'summer', 'suptitle', 'switch_backend', 'sys', 'table', 'text', 'thetagrids', 'threading', 'tick_params', 'ticklabel_format', 'tight_layout', 'time', 'title', 'tricontour', 'tricontourf', 'tripcolor', 'triplot', 'twinx', 'twiny', 'uninstall_repl_displayhook', 'violinplot', 'viridis', 'vlines', 'waitforbuttonpress', 'winter', 'xcorr', 'xkcd', 'xlabel', 'xlim', 'xscale', 'xticks', 'ylabel', 'ylim', 'yscale', 'yticks']\n"
     ]
    }
   ],
   "source": [
    "from matplotlib import pyplot\n",
    "print(dir(pyplot))"
   ]
  },
  {
   "cell_type": "code",
   "execution_count": 22,
   "id": "f88f0488-83c7-49c9-b603-43f59dd2c850",
   "metadata": {},
   "outputs": [
    {
     "name": "stdout",
     "output_type": "stream",
     "text": [
      "['__builtins__', '__cached__', '__doc__', '__file__', '__loader__', '__name__', '__package__', '__spec__', 'add']\n"
     ]
    }
   ],
   "source": [
    "import practice_python_mod\n",
    "print(dir(practice_python_mod))"
   ]
  },
  {
   "cell_type": "code",
   "execution_count": 23,
   "id": "a78d476d-45ca-43ba-b554-178fff124f25",
   "metadata": {},
   "outputs": [
    {
     "name": "stdout",
     "output_type": "stream",
     "text": [
      "['C:\\\\Users\\\\Anusha\\\\anaconda3\\\\Lib\\\\site-packages\\\\spyder\\\\plugins\\\\help\\\\utils', 'C:\\\\Users\\\\Anusha\\\\OneDrive\\\\Documents\\\\Online MS Program', 'C:\\\\Users\\\\Anusha\\\\anaconda3\\\\Lib\\\\site-packages\\\\git\\\\ext\\\\gitdb', 'C:\\\\Users\\\\Anusha\\\\OneDrive\\\\Documents\\\\Online MS Program\\\\Python', 'C:\\\\Users\\\\Anusha\\\\anaconda3\\\\python311.zip', 'C:\\\\Users\\\\Anusha\\\\anaconda3\\\\DLLs', 'C:\\\\Users\\\\Anusha\\\\anaconda3\\\\Lib', 'C:\\\\Users\\\\Anusha\\\\anaconda3', '', 'C:\\\\Users\\\\Anusha\\\\anaconda3\\\\Lib\\\\site-packages', 'C:\\\\Users\\\\Anusha\\\\anaconda3\\\\Lib\\\\site-packages\\\\win32', 'C:\\\\Users\\\\Anusha\\\\anaconda3\\\\Lib\\\\site-packages\\\\win32\\\\lib', 'C:\\\\Users\\\\Anusha\\\\anaconda3\\\\Lib\\\\site-packages\\\\Pythonwin', 'C:\\\\Users\\\\Anusha\\\\anaconda3\\\\Lib\\\\site-packages\\\\gitdb\\\\ext\\\\smmap']\n"
     ]
    }
   ],
   "source": [
    "import sys\n",
    "print(sys.path)"
   ]
  },
  {
   "cell_type": "code",
   "execution_count": 25,
   "id": "87ce05a6-f722-4ad8-b58f-0fbcec24a6d5",
   "metadata": {},
   "outputs": [
    {
     "name": "stdout",
     "output_type": "stream",
     "text": [
      "120\n"
     ]
    }
   ],
   "source": [
    "import math\n",
    "print(math.factorial(5))"
   ]
  },
  {
   "cell_type": "code",
   "execution_count": 26,
   "id": "2f0291e7-965f-4435-b787-41fdc125b8d8",
   "metadata": {},
   "outputs": [
    {
     "name": "stdout",
     "output_type": "stream",
     "text": [
      "2024-04-08\n"
     ]
    }
   ],
   "source": [
    "import datetime\n",
    "print(datetime.date.today())"
   ]
  },
  {
   "cell_type": "markdown",
   "id": "0ac1547a-3040-4c92-8ce4-a1f2c80d6803",
   "metadata": {},
   "source": [
    "# Time module"
   ]
  },
  {
   "cell_type": "code",
   "execution_count": 28,
   "id": "6ce096f6-fad0-4887-adfb-8d2b532f090f",
   "metadata": {},
   "outputs": [],
   "source": [
    "import time"
   ]
  },
  {
   "cell_type": "code",
   "execution_count": 30,
   "id": "67f4ecd6-4639-4192-8455-4cc673315a30",
   "metadata": {},
   "outputs": [
    {
     "data": {
      "text/plain": [
       "1712542792.4273484"
      ]
     },
     "execution_count": 30,
     "metadata": {},
     "output_type": "execute_result"
    }
   ],
   "source": [
    "time.time()"
   ]
  },
  {
   "cell_type": "code",
   "execution_count": 32,
   "id": "4d94bf12-43ba-4949-b62a-7210ea3c37a2",
   "metadata": {},
   "outputs": [
    {
     "data": {
      "text/plain": [
       "'Mon Apr  8 07:49:52 2024'"
      ]
     },
     "execution_count": 32,
     "metadata": {},
     "output_type": "execute_result"
    }
   ],
   "source": [
    "time.ctime(1712542792.4273484)"
   ]
  },
  {
   "cell_type": "code",
   "execution_count": 34,
   "id": "fd8f3ecf-275d-403f-b222-e50dd79a96df",
   "metadata": {},
   "outputs": [
    {
     "name": "stdout",
     "output_type": "stream",
     "text": [
      "Help on built-in function time in module time:\n",
      "\n",
      "time(...)\n",
      "    time() -> floating point number\n",
      "    \n",
      "    Return the current time in seconds since the Epoch.\n",
      "    Fractions of a second may be present if the system clock provides them.\n",
      "\n"
     ]
    }
   ],
   "source": [
    "help(time.time)"
   ]
  },
  {
   "cell_type": "code",
   "execution_count": 35,
   "id": "69ab8c21-d5cc-435c-9c82-63808c43ddc1",
   "metadata": {},
   "outputs": [
    {
     "data": {
      "text/plain": [
       "time.struct_time(tm_year=2024, tm_mon=4, tm_mday=8, tm_hour=7, tm_min=51, tm_sec=11, tm_wday=0, tm_yday=99, tm_isdst=0)"
      ]
     },
     "execution_count": 35,
     "metadata": {},
     "output_type": "execute_result"
    }
   ],
   "source": [
    "time.localtime()"
   ]
  },
  {
   "cell_type": "code",
   "execution_count": 36,
   "id": "0c1bedaf-7a40-4a81-8438-64c45fa31cfa",
   "metadata": {},
   "outputs": [
    {
     "name": "stdout",
     "output_type": "stream",
     "text": [
      "1712543049.0\n"
     ]
    }
   ],
   "source": [
    "a=time.localtime()\n",
    "b=time.mktime(a)\n",
    "print(b)"
   ]
  },
  {
   "cell_type": "code",
   "execution_count": 38,
   "id": "3ab019bd-8c76-4448-9e4a-2e60c77732b5",
   "metadata": {},
   "outputs": [],
   "source": [
    "c=time.asctime(a)"
   ]
  },
  {
   "cell_type": "code",
   "execution_count": 39,
   "id": "49ce5f8b-4e2f-4206-82c2-dfc0bcc411a7",
   "metadata": {},
   "outputs": [
    {
     "name": "stdout",
     "output_type": "stream",
     "text": [
      "Mon Apr  8 07:54:09 2024\n"
     ]
    }
   ],
   "source": [
    "print(c)"
   ]
  },
  {
   "cell_type": "code",
   "execution_count": 40,
   "id": "f03673e0-3771-4b8d-9250-3e2ccde6a759",
   "metadata": {},
   "outputs": [
    {
     "name": "stdout",
     "output_type": "stream",
     "text": [
      "Help on built-in function strftime in module time:\n",
      "\n",
      "strftime(...)\n",
      "    strftime(format[, tuple]) -> string\n",
      "    \n",
      "    Convert a time tuple to a string according to a format specification.\n",
      "    See the library reference manual for formatting codes. When the time tuple\n",
      "    is not present, current time as returned by localtime() is used.\n",
      "    \n",
      "    Commonly used format codes:\n",
      "    \n",
      "    %Y  Year with century as a decimal number.\n",
      "    %m  Month as a decimal number [01,12].\n",
      "    %d  Day of the month as a decimal number [01,31].\n",
      "    %H  Hour (24-hour clock) as a decimal number [00,23].\n",
      "    %M  Minute as a decimal number [00,59].\n",
      "    %S  Second as a decimal number [00,61].\n",
      "    %z  Time zone offset from UTC.\n",
      "    %a  Locale's abbreviated weekday name.\n",
      "    %A  Locale's full weekday name.\n",
      "    %b  Locale's abbreviated month name.\n",
      "    %B  Locale's full month name.\n",
      "    %c  Locale's appropriate date and time representation.\n",
      "    %I  Hour (12-hour clock) as a decimal number [01,12].\n",
      "    %p  Locale's equivalent of either AM or PM.\n",
      "    \n",
      "    Other codes may be available on your platform.  See documentation for\n",
      "    the C library strftime function.\n",
      "\n"
     ]
    }
   ],
   "source": [
    "help(time.strftime)"
   ]
  },
  {
   "cell_type": "code",
   "execution_count": 41,
   "id": "9ac624bd-68f7-49e4-9cfb-bc2fb2e52e74",
   "metadata": {},
   "outputs": [
    {
     "name": "stdout",
     "output_type": "stream",
     "text": [
      "time.struct_time(tm_year=2024, tm_mon=4, tm_mday=8, tm_hour=7, tm_min=54, tm_sec=9, tm_wday=0, tm_yday=99, tm_isdst=0)\n"
     ]
    }
   ],
   "source": [
    "print(a)"
   ]
  },
  {
   "cell_type": "code",
   "execution_count": 42,
   "id": "7015182c-6c1e-46d5-a1a7-5465c17b014f",
   "metadata": {},
   "outputs": [],
   "source": [
    "x=time.strftime('%m%d%y')"
   ]
  },
  {
   "cell_type": "code",
   "execution_count": 43,
   "id": "6018a5ee-91e6-41ef-b425-24395a4036c7",
   "metadata": {},
   "outputs": [
    {
     "name": "stdout",
     "output_type": "stream",
     "text": [
      "040824\n"
     ]
    }
   ],
   "source": [
    "print(x)"
   ]
  },
  {
   "cell_type": "markdown",
   "id": "f97967ce-4e18-45a8-9488-bd27ab065b99",
   "metadata": {},
   "source": [
    "# Date Time Module"
   ]
  },
  {
   "cell_type": "code",
   "execution_count": 47,
   "id": "a7bb136d-fa83-4d31-a40d-b6621ed1feaf",
   "metadata": {},
   "outputs": [],
   "source": [
    "import datetime"
   ]
  },
  {
   "cell_type": "code",
   "execution_count": 49,
   "id": "5f194efc-b512-4ac0-8dca-caf4523ab265",
   "metadata": {},
   "outputs": [
    {
     "name": "stdout",
     "output_type": "stream",
     "text": [
      "2024-04-08 08:21:54.000678\n"
     ]
    }
   ],
   "source": [
    "print(datetime.datetime(2024,4,8,8,21,54,678))"
   ]
  },
  {
   "cell_type": "code",
   "execution_count": 50,
   "id": "5db398f7-6cf2-49d9-b2f2-7fce25ccc8ce",
   "metadata": {},
   "outputs": [
    {
     "data": {
      "text/plain": [
       "datetime.datetime(2024, 4, 8, 8, 23, 9, 277878)"
      ]
     },
     "execution_count": 50,
     "metadata": {},
     "output_type": "execute_result"
    }
   ],
   "source": [
    "datetime.datetime.now()"
   ]
  },
  {
   "cell_type": "code",
   "execution_count": 53,
   "id": "b5aa37db-0bb0-4d6e-88e4-998e30981aa5",
   "metadata": {},
   "outputs": [],
   "source": [
    "v=datetime.datetime.now()"
   ]
  },
  {
   "cell_type": "code",
   "execution_count": 54,
   "id": "838aeca7-0c5f-4fd0-83bc-35402e9ebfcf",
   "metadata": {},
   "outputs": [
    {
     "data": {
      "text/plain": [
       "2024"
      ]
     },
     "execution_count": 54,
     "metadata": {},
     "output_type": "execute_result"
    }
   ],
   "source": [
    "v.year"
   ]
  },
  {
   "cell_type": "code",
   "execution_count": 55,
   "id": "8e48dee6-e9ed-4a4e-94de-b5b317167a8c",
   "metadata": {},
   "outputs": [
    {
     "data": {
      "text/plain": [
       "4"
      ]
     },
     "execution_count": 55,
     "metadata": {},
     "output_type": "execute_result"
    }
   ],
   "source": [
    "v.month"
   ]
  },
  {
   "cell_type": "code",
   "execution_count": 56,
   "id": "dce8b76c-354a-4c35-adf0-a696ed3de76c",
   "metadata": {},
   "outputs": [
    {
     "data": {
      "text/plain": [
       "8"
      ]
     },
     "execution_count": 56,
     "metadata": {},
     "output_type": "execute_result"
    }
   ],
   "source": [
    "v.hour"
   ]
  },
  {
   "cell_type": "code",
   "execution_count": 58,
   "id": "0013a4f4-581d-4b75-89c1-94813f42f3a6",
   "metadata": {},
   "outputs": [
    {
     "data": {
      "text/plain": [
       "datetime.date(2024, 4, 8)"
      ]
     },
     "execution_count": 58,
     "metadata": {},
     "output_type": "execute_result"
    }
   ],
   "source": [
    "datetime.date(2024,4,8)"
   ]
  },
  {
   "cell_type": "code",
   "execution_count": 59,
   "id": "b7c07acd-6bfb-4536-af68-f69e12057119",
   "metadata": {},
   "outputs": [
    {
     "data": {
      "text/plain": [
       "datetime.time(3, 45, 23)"
      ]
     },
     "execution_count": 59,
     "metadata": {},
     "output_type": "execute_result"
    }
   ],
   "source": [
    "datetime.time(3,45,23)"
   ]
  },
  {
   "cell_type": "code",
   "execution_count": 60,
   "id": "19d980da-4b18-4103-a2ec-f277ac48855b",
   "metadata": {},
   "outputs": [
    {
     "name": "stdout",
     "output_type": "stream",
     "text": [
      "-10 days, 0:00:00\n",
      "<class 'datetime.timedelta'>\n"
     ]
    }
   ],
   "source": [
    "b1=datetime.timedelta(days=20)\n",
    "b2=datetime.timedelta(days=30)\n",
    "b3=b1-b2\n",
    "print(b3)\n",
    "print(type(b3))"
   ]
  }
 ],
 "metadata": {
  "kernelspec": {
   "display_name": "Python 3 (ipykernel)",
   "language": "python",
   "name": "python3"
  },
  "language_info": {
   "codemirror_mode": {
    "name": "ipython",
    "version": 3
   },
   "file_extension": ".py",
   "mimetype": "text/x-python",
   "name": "python",
   "nbconvert_exporter": "python",
   "pygments_lexer": "ipython3",
   "version": "3.11.7"
  }
 },
 "nbformat": 4,
 "nbformat_minor": 5
}
