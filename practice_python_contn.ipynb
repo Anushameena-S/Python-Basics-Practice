{
 "cells": [
  {
   "cell_type": "markdown",
   "id": "3cf32f4a-1aa4-4695-af2f-aea8fdc86d16",
   "metadata": {},
   "source": [
    "# Python Operators"
   ]
  },
  {
   "cell_type": "markdown",
   "id": "79c70a84-a690-4070-ad2b-ebf6c190ca64",
   "metadata": {},
   "source": [
    "## Arithmetic Operator"
   ]
  },
  {
   "cell_type": "code",
   "execution_count": 4,
   "id": "17ac43aa-6255-488f-97b7-0345c41f43b3",
   "metadata": {},
   "outputs": [
    {
     "name": "stdout",
     "output_type": "stream",
     "text": [
      "a+b= 14\n",
      "a-b= 10\n",
      "a*b= 24\n",
      "a/b= 6.0\n",
      "a%b= 0\n",
      "a//b= 6\n",
      "a**b= 144\n"
     ]
    },
    {
     "data": {
      "text/plain": [
       "14"
      ]
     },
     "execution_count": 4,
     "metadata": {},
     "output_type": "execute_result"
    }
   ],
   "source": [
    "a=12\n",
    "b=2\n",
    "print(\"a+b=\", a+b) # Addition\n",
    "print(\"a-b=\", a-b) # Subtraction\n",
    "print(\"a*b=\", a*b) # Multiplication\n",
    "print(\"a/b=\", a/b) # Division\n",
    "print(\"a%b=\", a%b) # Remainder of Division\n",
    "print(\"a//b=\", a//b) # Integer value of Divsion\n",
    "print(\"a**b=\", a**b) # a power b\n",
    "\n",
    "a+b"
   ]
  },
  {
   "cell_type": "code",
   "execution_count": null,
   "id": "400ff48a-8d15-4dac-9f5a-b72f89af189d",
   "metadata": {},
   "outputs": [],
   "source": []
  },
  {
   "cell_type": "markdown",
   "id": "1cf62452-df04-4f16-9bef-9a070ff27774",
   "metadata": {},
   "source": [
    "## Comparison Operator"
   ]
  },
  {
   "cell_type": "code",
   "execution_count": 5,
   "id": "50d8f09e-9493-441a-939b-9f3bbb748d9d",
   "metadata": {},
   "outputs": [
    {
     "name": "stdout",
     "output_type": "stream",
     "text": [
      "a>b is  False\n",
      "a<b is  True\n",
      "a==b is  False\n",
      "a!=b is  True\n",
      "a>=b is  False\n",
      "a<=b is  True\n"
     ]
    }
   ],
   "source": [
    "a=10\n",
    "b=20\n",
    "print(\"a>b is \", a>b)\n",
    "print(\"a<b is \", a<b)\n",
    "print(\"a==b is \", a==b)\n",
    "print(\"a!=b is \", a!=b)\n",
    "print(\"a>=b is \", a>=b)\n",
    "print(\"a<=b is \", a<=b)"
   ]
  },
  {
   "cell_type": "markdown",
   "id": "eab5f0ba-cf45-4925-8420-0ab88f61e8ba",
   "metadata": {},
   "source": [
    "## Assignment Operator"
   ]
  },
  {
   "cell_type": "code",
   "execution_count": 6,
   "id": "c3c82e0d-4215-453d-876e-c6919701d2d7",
   "metadata": {},
   "outputs": [
    {
     "name": "stdout",
     "output_type": "stream",
     "text": [
      "X= 5\n",
      "Updated value of X after (X+=5) is  10\n",
      "Updated value of X after (X-=2) is  8\n",
      "Updated value of X after (X*=2) is  16\n",
      "Updated value of X after (X/=4) is  4.0\n"
     ]
    }
   ],
   "source": [
    "x=5\n",
    "print(\"X=\", x)\n",
    "x+=5\n",
    "print(\"Updated value of X after (X+=5) is \", x)\n",
    "x-=2\n",
    "print(\"Updated value of X after (X-=2) is \", x)\n",
    "x*=2\n",
    "print(\"Updated value of X after (X*=2) is \", x)\n",
    "x/=4\n",
    "print(\"Updated value of X after (X/=4) is \", x)\n"
   ]
  },
  {
   "cell_type": "markdown",
   "id": "53dccbd7-50bf-44eb-9c99-78143646d0cb",
   "metadata": {},
   "source": [
    "## Logical Operator"
   ]
  },
  {
   "cell_type": "code",
   "execution_count": 11,
   "id": "be934562-d75a-4797-b42f-c10a1907f55a",
   "metadata": {},
   "outputs": [
    {
     "name": "stdout",
     "output_type": "stream",
     "text": [
      "True\n",
      "False\n",
      "True\n",
      "False\n"
     ]
    }
   ],
   "source": [
    "x=11\n",
    "a=x>10 and x<20\n",
    "print(a)\n",
    "a= x>10 and x==12\n",
    "print(a)\n",
    "a=x>10 or x==20\n",
    "print(a)\n",
    "a=x>12 or x==20\n",
    "print(a)"
   ]
  },
  {
   "cell_type": "markdown",
   "id": "4221786f-558b-4006-b831-af4419321398",
   "metadata": {},
   "source": [
    "# Lists"
   ]
  },
  {
   "cell_type": "code",
   "execution_count": 1,
   "id": "3c542670-c236-44f8-9fe8-9501567e15f8",
   "metadata": {},
   "outputs": [
    {
     "data": {
      "text/plain": [
       "[]"
      ]
     },
     "execution_count": 1,
     "metadata": {},
     "output_type": "execute_result"
    }
   ],
   "source": [
    "#List is list of names or numbers\n",
    "empty_list=[]\n",
    "empty_list"
   ]
  },
  {
   "cell_type": "code",
   "execution_count": 2,
   "id": "869feb36-0823-4cd2-8542-c17362b5074b",
   "metadata": {},
   "outputs": [
    {
     "data": {
      "text/plain": [
       "[['Data Science', 'Machine Learning'], [135, 235, 321]]"
      ]
     },
     "execution_count": 2,
     "metadata": {},
     "output_type": "execute_result"
    }
   ],
   "source": [
    "# Nested List\n",
    "my_list=[['Data Science', 'Machine Learning'],[135, 235, 321]]\n",
    "my_list"
   ]
  },
  {
   "cell_type": "code",
   "execution_count": 7,
   "id": "41afac69-d36f-40ac-a969-87b62d094c0b",
   "metadata": {},
   "outputs": [
    {
     "name": "stdout",
     "output_type": "stream",
     "text": [
      "['Data Science', 'Machine Learning', 'Big Data', 'Python', 'HTML']\n",
      "Data Science\n",
      "Machine Learning\n",
      "HTML\n",
      "Python\n"
     ]
    }
   ],
   "source": [
    "course=['Data Science', 'Machine Learning', 'Big Data', 'Python', 'HTML']\n",
    "print(course)\n",
    "print(course[0])\n",
    "print(course[1])\n",
    "print(course[-1])\n",
    "print(course[-2])"
   ]
  },
  {
   "cell_type": "code",
   "execution_count": 9,
   "id": "95fb81c3-9912-4858-a2fe-5e390d294a29",
   "metadata": {},
   "outputs": [
    {
     "data": {
      "text/plain": [
       "['Data Science', 'Machine Learning', 'Big Data']"
      ]
     },
     "execution_count": 9,
     "metadata": {},
     "output_type": "execute_result"
    }
   ],
   "source": [
    "course[:3]"
   ]
  },
  {
   "cell_type": "raw",
   "id": "8086ec56-dc4a-4215-9d97-0869fb4af753",
   "metadata": {},
   "source": [
    "course=['Data Science', 'Machine Learning', 'Big Data', 'Python', 'HTML']\n",
    "course[:]"
   ]
  },
  {
   "cell_type": "code",
   "execution_count": 10,
   "id": "fe396fd2-f62f-4365-a765-00f316ea274a",
   "metadata": {},
   "outputs": [
    {
     "data": {
      "text/plain": [
       "['Big Data', 'Python', 'HTML']"
      ]
     },
     "execution_count": 10,
     "metadata": {},
     "output_type": "execute_result"
    }
   ],
   "source": [
    "course[2:]"
   ]
  },
  {
   "cell_type": "code",
   "execution_count": 11,
   "id": "380e6720-ac2e-4d65-afeb-bf3834794093",
   "metadata": {},
   "outputs": [
    {
     "name": "stdout",
     "output_type": "stream",
     "text": [
      "[3, 5, 7]\n"
     ]
    }
   ],
   "source": [
    "a=[1,2,3,4,5,6,7,8,9,10]\n",
    "print(a[2:7:2]) # from 2 it takes 2 steps till 7"
   ]
  },
  {
   "cell_type": "code",
   "execution_count": 14,
   "id": "0f6aa31c-f862-479b-8e45-5d2092947cbe",
   "metadata": {},
   "outputs": [
    {
     "data": {
      "text/plain": [
       "['Data Science', 'Machine Learning', 'Big Data', 'statistics', 'HTML']"
      ]
     },
     "execution_count": 14,
     "metadata": {},
     "output_type": "execute_result"
    }
   ],
   "source": [
    "course=['Data Science', 'Machine Learning', 'Big Data', 'Python', 'HTML']\n",
    "course[3]='statistics'\n",
    "course"
   ]
  },
  {
   "cell_type": "markdown",
   "id": "058533a0-42ad-44f2-98b7-e8f0f30a5d04",
   "metadata": {},
   "source": [
    "## List Methods"
   ]
  },
  {
   "cell_type": "code",
   "execution_count": 17,
   "id": "e7dd0337-b96a-4643-a458-0079b4aa1f88",
   "metadata": {},
   "outputs": [
    {
     "data": {
      "text/plain": [
       "['Data Science',\n",
       " 'Machine Learning',\n",
       " 'Big Data',\n",
       " 'Python',\n",
       " 'HTML',\n",
       " ['statistics']]"
      ]
     },
     "execution_count": 17,
     "metadata": {},
     "output_type": "execute_result"
    }
   ],
   "source": [
    "course1=['Data Science', 'Machine Learning', 'Big Data', 'Python', 'HTML']\n",
    "course2=['statistics']\n",
    "course1.append(course2)\n",
    "course1"
   ]
  },
  {
   "cell_type": "code",
   "execution_count": 18,
   "id": "d53f5225-5ecd-4254-947a-82335f04db0f",
   "metadata": {},
   "outputs": [
    {
     "data": {
      "text/plain": [
       "['Data Science',\n",
       " 'Machine Learning',\n",
       " 'Statistics',\n",
       " 'Big Data',\n",
       " 'Python',\n",
       " 'HTML']"
      ]
     },
     "execution_count": 18,
     "metadata": {},
     "output_type": "execute_result"
    }
   ],
   "source": [
    "course=['Data Science', 'Machine Learning', 'Big Data', 'Python', 'HTML']\n",
    "course.insert(2, 'Statistics')\n",
    "course"
   ]
  },
  {
   "cell_type": "code",
   "execution_count": 20,
   "id": "5061544e-cd47-4fcc-9f7e-cda1c9aca955",
   "metadata": {},
   "outputs": [
    {
     "data": {
      "text/plain": [
       "['Data Science',\n",
       " 'Machine Learning',\n",
       " 'Big Data',\n",
       " 'Python',\n",
       " 'HTML',\n",
       " 'Artificial Intellignece']"
      ]
     },
     "execution_count": 20,
     "metadata": {},
     "output_type": "execute_result"
    }
   ],
   "source": [
    "course1=['Data Science', 'Machine Learning', 'Big Data', 'Python', 'HTML']\n",
    "course2=['Artificial Intelligence']\n",
    "course1.extend(course2)\n",
    "course1"
   ]
  },
  {
   "cell_type": "code",
   "execution_count": 22,
   "id": "2f52527b-443c-42a3-a6c2-3c0d9bcf2d1f",
   "metadata": {},
   "outputs": [
    {
     "data": {
      "text/plain": [
       "['Data Science', 'Machine Learning', 'Python']"
      ]
     },
     "execution_count": 22,
     "metadata": {},
     "output_type": "execute_result"
    }
   ],
   "source": [
    "course=['Data Science', 'Machine Learning', 'Big Data', 'Python', 'HTML']\n",
    "del course[2]\n",
    "course.remove('HTML')\n",
    "course"
   ]
  },
  {
   "cell_type": "code",
   "execution_count": 25,
   "id": "5a2c6e6a-462d-4f18-87fd-13489452b796",
   "metadata": {},
   "outputs": [
    {
     "data": {
      "text/plain": [
       "'HTML'"
      ]
     },
     "execution_count": 25,
     "metadata": {},
     "output_type": "execute_result"
    }
   ],
   "source": [
    "course=['Data Science', 'Machine Learning', 'Big Data', 'Python', 'HTML']\n",
    "course.pop() # Identifies and removes the last element in the list"
   ]
  },
  {
   "cell_type": "code",
   "execution_count": 26,
   "id": "8121d63b-ed34-48e4-8630-cf957fd9b8a8",
   "metadata": {},
   "outputs": [
    {
     "data": {
      "text/plain": [
       "['Data Science', 'Machine Learning', 'Big Data', 'Python']"
      ]
     },
     "execution_count": 26,
     "metadata": {},
     "output_type": "execute_result"
    }
   ],
   "source": [
    "course"
   ]
  },
  {
   "cell_type": "code",
   "execution_count": 27,
   "id": "3f2c144e-3886-4940-8434-462bac8a6523",
   "metadata": {},
   "outputs": [
    {
     "data": {
      "text/plain": [
       "'Machine Learning'"
      ]
     },
     "execution_count": 27,
     "metadata": {},
     "output_type": "execute_result"
    }
   ],
   "source": [
    "course.pop(1)"
   ]
  },
  {
   "cell_type": "code",
   "execution_count": 28,
   "id": "7d0b2935-adf8-4e0e-885c-6423957058e8",
   "metadata": {},
   "outputs": [
    {
     "data": {
      "text/plain": [
       "['Python', 'Big Data', 'Data Science']"
      ]
     },
     "execution_count": 28,
     "metadata": {},
     "output_type": "execute_result"
    }
   ],
   "source": [
    "course.reverse()\n",
    "course"
   ]
  },
  {
   "cell_type": "code",
   "execution_count": 29,
   "id": "fe32a810-c147-44f1-bf2d-be8b700b47bb",
   "metadata": {},
   "outputs": [
    {
     "data": {
      "text/plain": [
       "['Data Science',\n",
       " 'Machine Learning',\n",
       " 'Big Data',\n",
       " 'Python',\n",
       " 'HTML',\n",
       " 'Artificial Intellignece']"
      ]
     },
     "execution_count": 29,
     "metadata": {},
     "output_type": "execute_result"
    }
   ],
   "source": [
    "course1=['Data Science', 'Machine Learning', 'Big Data', 'Python', 'HTML']\n",
    "course2=['Artificial Intelligence','Stastics]\n",
    "course1+course2"
   ]
  },
  {
   "cell_type": "code",
   "execution_count": 30,
   "id": "cb920bd1-2793-4e62-ae9d-ac8c713f8068",
   "metadata": {},
   "outputs": [
    {
     "data": {
      "text/plain": [
       "['Data Science',\n",
       " 'Machine Learning',\n",
       " 'Big Data',\n",
       " 'Python',\n",
       " 'HTML',\n",
       " 'Data Science',\n",
       " 'Machine Learning',\n",
       " 'Big Data',\n",
       " 'Python',\n",
       " 'HTML']"
      ]
     },
     "execution_count": 30,
     "metadata": {},
     "output_type": "execute_result"
    }
   ],
   "source": [
    "course1*2"
   ]
  },
  {
   "cell_type": "markdown",
   "id": "be0d0a07-507e-41d5-82b9-cd044a8be362",
   "metadata": {},
   "source": [
    "# Tuples"
   ]
  },
  {
   "cell_type": "code",
   "execution_count": 32,
   "id": "7f8d6d17-2baa-4a4e-a75c-4033f59fcd3e",
   "metadata": {},
   "outputs": [
    {
     "data": {
      "text/plain": [
       "(123, 2.228, 'Hello World')"
      ]
     },
     "execution_count": 32,
     "metadata": {},
     "output_type": "execute_result"
    }
   ],
   "source": [
    "# Unlike lists Tupes cares about the order i.e the sequence\n",
    "# If all entries are Strings then list is best to use\n",
    "# If all entries are numbers and more arithmetic operations to be performed, then tuples are best to use\n",
    "my_tuple=(123,2.228, \"Hello World\")\n",
    "my_tuple"
   ]
  },
  {
   "cell_type": "code",
   "execution_count": 33,
   "id": "a520d6d9-6019-406c-9f0a-61db555f8abf",
   "metadata": {},
   "outputs": [
    {
     "data": {
      "text/plain": [
       "('Python', [2, 4, 5])"
      ]
     },
     "execution_count": 33,
     "metadata": {},
     "output_type": "execute_result"
    }
   ],
   "source": [
    "my_tuple=(\"Python\", [2, 4, 5])\n",
    "my_tuple"
   ]
  },
  {
   "cell_type": "code",
   "execution_count": 36,
   "id": "735dfe02-130a-41fe-95cc-ece805d9c9c0",
   "metadata": {},
   "outputs": [
    {
     "data": {
      "text/plain": [
       "'Yellow'"
      ]
     },
     "execution_count": 36,
     "metadata": {},
     "output_type": "execute_result"
    }
   ],
   "source": [
    "my_tuple=(\"Green\", \"Yellow\", \"Green\", \"Blue\")\n",
    "my_tuple[1]"
   ]
  },
  {
   "cell_type": "code",
   "execution_count": 37,
   "id": "8f493963-75e4-4d0d-a4af-8bda90f23fe0",
   "metadata": {},
   "outputs": [
    {
     "data": {
      "text/plain": [
       "'Green'"
      ]
     },
     "execution_count": 37,
     "metadata": {},
     "output_type": "execute_result"
    }
   ],
   "source": [
    "my_tuple[-2]"
   ]
  },
  {
   "cell_type": "markdown",
   "id": "96049f7b-f256-46df-9cd4-e873113538fc",
   "metadata": {},
   "source": [
    "## Changing Tuple values"
   ]
  },
  {
   "cell_type": "code",
   "execution_count": 38,
   "id": "806168e2-3bcf-45d2-ac34-0c4009ce31b6",
   "metadata": {},
   "outputs": [
    {
     "ename": "TypeError",
     "evalue": "'tuple' object does not support item assignment",
     "output_type": "error",
     "traceback": [
      "\u001b[1;31m---------------------------------------------------------------------------\u001b[0m",
      "\u001b[1;31mTypeError\u001b[0m                                 Traceback (most recent call last)",
      "Cell \u001b[1;32mIn[38], line 2\u001b[0m\n\u001b[0;32m      1\u001b[0m my_tuple\u001b[38;5;241m=\u001b[39m(\u001b[38;5;124m\"\u001b[39m\u001b[38;5;124mGreen\u001b[39m\u001b[38;5;124m\"\u001b[39m, \u001b[38;5;124m\"\u001b[39m\u001b[38;5;124mYellow\u001b[39m\u001b[38;5;124m\"\u001b[39m, \u001b[38;5;124m\"\u001b[39m\u001b[38;5;124mGreen\u001b[39m\u001b[38;5;124m\"\u001b[39m, \u001b[38;5;124m\"\u001b[39m\u001b[38;5;124mBlue\u001b[39m\u001b[38;5;124m\"\u001b[39m)\n\u001b[1;32m----> 2\u001b[0m my_tuple[\u001b[38;5;241m0\u001b[39m]\u001b[38;5;241m=\u001b[39m\u001b[38;5;124m'\u001b[39m\u001b[38;5;124mOrange\u001b[39m\u001b[38;5;124m'\u001b[39m\n",
      "\u001b[1;31mTypeError\u001b[0m: 'tuple' object does not support item assignment"
     ]
    }
   ],
   "source": [
    "my_tuple=(\"Green\", \"Yellow\", \"Green\", \"Blue\")\n",
    "my_tuple[0]='Orange'"
   ]
  },
  {
   "cell_type": "code",
   "execution_count": 42,
   "id": "819b297a-00f7-4cfa-8b58-c66b4f168b80",
   "metadata": {},
   "outputs": [
    {
     "name": "stdout",
     "output_type": "stream",
     "text": [
      "(123, ['s', 'a', 'v'], 'World')\n",
      "(123, ['s', 'a', 99], 'World')\n"
     ]
    }
   ],
   "source": [
    "my_tuple=(123, ['s','a','v'], \"World\")\n",
    "print(my_tuple)\n",
    "my_tuple[1][2]=99\n",
    "print(my_tuple)"
   ]
  },
  {
   "cell_type": "code",
   "execution_count": 43,
   "id": "0c8345c5-20d6-4529-8914-6d88b3c896f5",
   "metadata": {},
   "outputs": [
    {
     "ename": "TypeError",
     "evalue": "'tuple' object doesn't support item deletion",
     "output_type": "error",
     "traceback": [
      "\u001b[1;31m---------------------------------------------------------------------------\u001b[0m",
      "\u001b[1;31mTypeError\u001b[0m                                 Traceback (most recent call last)",
      "Cell \u001b[1;32mIn[43], line 1\u001b[0m\n\u001b[1;32m----> 1\u001b[0m \u001b[38;5;28;01mdel\u001b[39;00m my_tuple[\u001b[38;5;241m0\u001b[39m]\n",
      "\u001b[1;31mTypeError\u001b[0m: 'tuple' object doesn't support item deletion"
     ]
    }
   ],
   "source": [
    "del my_tuple[0]"
   ]
  },
  {
   "cell_type": "code",
   "execution_count": 45,
   "id": "21176baf-ede6-4d8a-abdd-f0a9e83fd7ac",
   "metadata": {},
   "outputs": [
    {
     "data": {
      "text/plain": [
       "3"
      ]
     },
     "execution_count": 45,
     "metadata": {},
     "output_type": "execute_result"
    }
   ],
   "source": [
    "my_tuple=('a','p','p','l','e','a','b','c','d','e','f','e','d','g')\n",
    "my_tuple.count('e')"
   ]
  },
  {
   "cell_type": "code",
   "execution_count": 46,
   "id": "c05a4660-f097-4b97-9e78-beeb662b0ce6",
   "metadata": {},
   "outputs": [
    {
     "data": {
      "text/plain": [
       "3"
      ]
     },
     "execution_count": 46,
     "metadata": {},
     "output_type": "execute_result"
    }
   ],
   "source": [
    "my_tuple.index('l')"
   ]
  },
  {
   "cell_type": "code",
   "execution_count": 47,
   "id": "2a474029-944c-42c6-ab8c-6a69e6adc620",
   "metadata": {},
   "outputs": [
    {
     "data": {
      "text/plain": [
       "[2, 2, 4, 4, 5, 5, 6, 7, 8, 9, 31]"
      ]
     },
     "execution_count": 47,
     "metadata": {},
     "output_type": "execute_result"
    }
   ],
   "source": [
    "my_tuple=(2,5,4,31,7,6,5,4,8,9,2)\n",
    "sorted(my_tuple)"
   ]
  },
  {
   "cell_type": "code",
   "execution_count": 48,
   "id": "072ddd6e-6dde-4e8c-93a0-46b0d2be0297",
   "metadata": {},
   "outputs": [
    {
     "ename": "TypeError",
     "evalue": "'<' not supported between instances of 'str' and 'int'",
     "output_type": "error",
     "traceback": [
      "\u001b[1;31m---------------------------------------------------------------------------\u001b[0m",
      "\u001b[1;31mTypeError\u001b[0m                                 Traceback (most recent call last)",
      "Cell \u001b[1;32mIn[48], line 2\u001b[0m\n\u001b[0;32m      1\u001b[0m my_tuple\u001b[38;5;241m=\u001b[39m(\u001b[38;5;241m2\u001b[39m,\u001b[38;5;241m5\u001b[39m,\u001b[38;5;241m4\u001b[39m,\u001b[38;5;241m31\u001b[39m,\u001b[38;5;241m7\u001b[39m,\u001b[38;5;241m6\u001b[39m,\u001b[38;5;241m5\u001b[39m,\u001b[38;5;241m4\u001b[39m,\u001b[38;5;241m8\u001b[39m,\u001b[38;5;241m9\u001b[39m,\u001b[38;5;241m2\u001b[39m,\u001b[38;5;124m\"\u001b[39m\u001b[38;5;124mA\u001b[39m\u001b[38;5;124m\"\u001b[39m)\n\u001b[1;32m----> 2\u001b[0m \u001b[38;5;28msorted\u001b[39m(my_tuple)\n",
      "\u001b[1;31mTypeError\u001b[0m: '<' not supported between instances of 'str' and 'int'"
     ]
    }
   ],
   "source": [
    "my_tuple=(2,5,4,31,7,6,5,4,8,9,2,\"A\")\n",
    "sorted(my_tuple)"
   ]
  },
  {
   "cell_type": "markdown",
   "id": "3bd925cc-94b5-47da-859f-b080fdd56e65",
   "metadata": {},
   "source": [
    "# Dictionary"
   ]
  },
  {
   "cell_type": "code",
   "execution_count": 50,
   "id": "505fb8a4-2601-45c8-a778-8e4964d70af9",
   "metadata": {},
   "outputs": [
    {
     "name": "stdout",
     "output_type": "stream",
     "text": [
      "{'Mia': 87654, 'John': 89765, 'Jill': 83456}\n"
     ]
    }
   ],
   "source": [
    "balance ={\n",
    "    \"Mia\":87654,\n",
    "    \"John\":89765,\n",
    "    \"Jill\":83456\n",
    "}\n",
    "print(balance)"
   ]
  },
  {
   "cell_type": "code",
   "execution_count": 53,
   "id": "12d04b3c-af79-47a7-bc73-c8b7709366dc",
   "metadata": {},
   "outputs": [
    {
     "data": {
      "text/plain": [
       "87654"
      ]
     },
     "execution_count": 53,
     "metadata": {},
     "output_type": "execute_result"
    }
   ],
   "source": [
    "x=balance[\"Mia\"]\n",
    "x"
   ]
  },
  {
   "cell_type": "code",
   "execution_count": 55,
   "id": "dde60a84-5b9a-4c87-93f7-83a557c0ade5",
   "metadata": {},
   "outputs": [
    {
     "data": {
      "text/plain": [
       "83456"
      ]
     },
     "execution_count": 55,
     "metadata": {},
     "output_type": "execute_result"
    }
   ],
   "source": [
    "x=balance.get(\"Jill\")\n",
    "x"
   ]
  },
  {
   "cell_type": "markdown",
   "id": "448f33ae-2367-4e0c-a17c-31bf4189d081",
   "metadata": {},
   "source": [
    "## Changing values in dictionary"
   ]
  },
  {
   "cell_type": "code",
   "execution_count": 56,
   "id": "1f198e24-b367-4153-bcdc-5a32804d18ce",
   "metadata": {},
   "outputs": [
    {
     "data": {
      "text/plain": [
       "{2015: 45678, 2016: 34543, 2017: 56453}"
      ]
     },
     "execution_count": 56,
     "metadata": {},
     "output_type": "execute_result"
    }
   ],
   "source": [
    "year_sales={\n",
    "    2015:45678,\n",
    "    2016:34543,\n",
    "    2017:56453\n",
    "}\n",
    "year_sales"
   ]
  },
  {
   "cell_type": "code",
   "execution_count": 57,
   "id": "32036c94-c986-49e0-b75b-2525f4a0bb39",
   "metadata": {},
   "outputs": [
    {
     "data": {
      "text/plain": [
       "{2015: 50000, 2016: 34543, 2017: 56453}"
      ]
     },
     "execution_count": 57,
     "metadata": {},
     "output_type": "execute_result"
    }
   ],
   "source": [
    "year_sales[2015]=50000\n",
    "year_sales"
   ]
  },
  {
   "cell_type": "code",
   "execution_count": 58,
   "id": "6ad16b1e-2e6d-44c0-ad86-6328b3fb13fb",
   "metadata": {},
   "outputs": [
    {
     "name": "stdout",
     "output_type": "stream",
     "text": [
      "3\n"
     ]
    }
   ],
   "source": [
    "print(len(year_sales))"
   ]
  },
  {
   "cell_type": "code",
   "execution_count": 60,
   "id": "3961edc9-e98b-4dd6-b4bf-cf5092d184b5",
   "metadata": {},
   "outputs": [
    {
     "data": {
      "text/plain": [
       "{2015: 45678, 2016: 34543, 2017: 56453, 2018: 55000}"
      ]
     },
     "execution_count": 60,
     "metadata": {},
     "output_type": "execute_result"
    }
   ],
   "source": [
    "year_sales={\n",
    "    2015:45678,\n",
    "    2016:34543,\n",
    "    2017:56453\n",
    "}\n",
    "year_sales[2018]=55000\n",
    "year_sales"
   ]
  },
  {
   "cell_type": "markdown",
   "id": "048ac006-03b1-4bbc-8d9e-722539aae182",
   "metadata": {},
   "source": [
    "## Dictionary Methods"
   ]
  },
  {
   "cell_type": "code",
   "execution_count": 61,
   "id": "40827aa7-fd47-478c-a868-d0b599fe6ca5",
   "metadata": {},
   "outputs": [
    {
     "data": {
      "text/plain": [
       "45678"
      ]
     },
     "execution_count": 61,
     "metadata": {},
     "output_type": "execute_result"
    }
   ],
   "source": [
    "year_sales={\n",
    "    2015:45678,\n",
    "    2016:34543,\n",
    "    2017:56453\n",
    "}\n",
    "year_sales.pop(2015)"
   ]
  },
  {
   "cell_type": "code",
   "execution_count": 62,
   "id": "09671968-94d6-4a09-a48d-de6fd04560d3",
   "metadata": {},
   "outputs": [
    {
     "data": {
      "text/plain": [
       "{2016: 34543, 2017: 56453}"
      ]
     },
     "execution_count": 62,
     "metadata": {},
     "output_type": "execute_result"
    }
   ],
   "source": [
    "year_sales"
   ]
  },
  {
   "cell_type": "code",
   "execution_count": 63,
   "id": "788efa6a-ee99-49e5-8a4b-caf202e638b4",
   "metadata": {},
   "outputs": [
    {
     "data": {
      "text/plain": [
       "(2017, 56453)"
      ]
     },
     "execution_count": 63,
     "metadata": {},
     "output_type": "execute_result"
    }
   ],
   "source": [
    "year_sales={\n",
    "    2015:45678,\n",
    "    2016:34543,\n",
    "    2017:56453\n",
    "}\n",
    "year_sales.popitem()"
   ]
  },
  {
   "cell_type": "code",
   "execution_count": 64,
   "id": "1e234581-16d0-4ab4-8cf3-fe2eaf4ff9d8",
   "metadata": {},
   "outputs": [
    {
     "data": {
      "text/plain": [
       "{2015: 45678, 2016: 34543}"
      ]
     },
     "execution_count": 64,
     "metadata": {},
     "output_type": "execute_result"
    }
   ],
   "source": [
    "year_sales"
   ]
  },
  {
   "cell_type": "code",
   "execution_count": 65,
   "id": "2b4df097-5b33-4cfb-b688-9f8d7ebebdb9",
   "metadata": {},
   "outputs": [],
   "source": [
    "del year_sales[2016]"
   ]
  },
  {
   "cell_type": "code",
   "execution_count": 66,
   "id": "0f41ad9c-8f5f-4fd2-a2aa-a189f617a944",
   "metadata": {},
   "outputs": [
    {
     "data": {
      "text/plain": [
       "{2015: 45678}"
      ]
     },
     "execution_count": 66,
     "metadata": {},
     "output_type": "execute_result"
    }
   ],
   "source": [
    "year_sales"
   ]
  },
  {
   "cell_type": "raw",
   "id": "7c702f45-d958-46e3-a64f-e97c2f90fac5",
   "metadata": {},
   "source": [
    "year_sales.clear() # clear function is not working here"
   ]
  },
  {
   "cell_type": "code",
   "execution_count": 73,
   "id": "a76932e3-6048-4bac-95bc-770511e433d8",
   "metadata": {},
   "outputs": [
    {
     "data": {
      "text/plain": [
       "{2015: 45678}"
      ]
     },
     "execution_count": 73,
     "metadata": {},
     "output_type": "execute_result"
    }
   ],
   "source": [
    "year_sales"
   ]
  },
  {
   "cell_type": "code",
   "execution_count": 75,
   "id": "2578fba2-2866-4504-96d6-9cc2f1dc484b",
   "metadata": {},
   "outputs": [
    {
     "data": {
      "text/plain": [
       "{2015: 45678, 2016: 34543, 2017: 56453}"
      ]
     },
     "execution_count": 75,
     "metadata": {},
     "output_type": "execute_result"
    }
   ],
   "source": [
    "year_sales={\n",
    "    2015:45678,\n",
    "    2016:34543,\n",
    "    2017:56453\n",
    "}\n",
    "copy_dict=year_sales.copy()\n",
    "copy_dict"
   ]
  },
  {
   "cell_type": "code",
   "execution_count": 77,
   "id": "02de9e58-8a4f-41bb-9e40-e99b4166c62c",
   "metadata": {},
   "outputs": [
    {
     "data": {
      "text/plain": [
       "[1, 3, 5, 7, 9]"
      ]
     },
     "execution_count": 77,
     "metadata": {},
     "output_type": "execute_result"
    }
   ],
   "source": [
    "#Sorting keys in a dictionary\n",
    "Square={1:1,3:9,5:25,7:49,9:81}\n",
    "sorted(Square)"
   ]
  },
  {
   "cell_type": "code",
   "execution_count": 80,
   "id": "fabaf871-b75c-4984-b686-23985f087331",
   "metadata": {},
   "outputs": [
    {
     "data": {
      "text/plain": [
       "{2015: 45678, 2016: 34543, 2017: 56453, 2018: 80000}"
      ]
     },
     "execution_count": 80,
     "metadata": {},
     "output_type": "execute_result"
    }
   ],
   "source": [
    "year_sales={\n",
    "    2015:45678,\n",
    "    2016:34543,\n",
    "    2017:56453\n",
    "}\n",
    "year_sales.update({2018:80000})\n",
    "year_sales"
   ]
  },
  {
   "cell_type": "markdown",
   "id": "6e908648-cf0d-4f37-a5a9-ae7082f5f82b",
   "metadata": {},
   "source": [
    "# Sets"
   ]
  },
  {
   "cell_type": "code",
   "execution_count": 81,
   "id": "58588c00-edf9-4534-be79-ceb8356b19a0",
   "metadata": {},
   "outputs": [
    {
     "name": "stdout",
     "output_type": "stream",
     "text": [
      "{1, 2, 3, 4, 5, 6, 7, 8, 9}\n"
     ]
    }
   ],
   "source": [
    "#Sequence doesn't necessarily matter\n",
    "s={1,2,3,3,4,5,4,6,3,5,7,8,9}\n",
    "print(s)\n",
    "# cares only about the content"
   ]
  },
  {
   "cell_type": "code",
   "execution_count": 82,
   "id": "99d241a9-ed6f-470d-b8e5-36219b9a04f6",
   "metadata": {},
   "outputs": [
    {
     "data": {
      "text/plain": [
       "{1, 2, 3, 4, 5}"
      ]
     },
     "execution_count": 82,
     "metadata": {},
     "output_type": "execute_result"
    }
   ],
   "source": [
    "set([1,2,3,4,3,5])"
   ]
  },
  {
   "cell_type": "code",
   "execution_count": 19,
   "id": "df818f51-3f7c-4448-a11e-f09288d78d1b",
   "metadata": {},
   "outputs": [
    {
     "name": "stdout",
     "output_type": "stream",
     "text": [
      "{1, 2, 3}\n"
     ]
    }
   ],
   "source": [
    "my_set = set([1,2,3])\n",
    "print(my_set)"
   ]
  },
  {
   "cell_type": "code",
   "execution_count": 20,
   "id": "407ff689-4daa-4056-a031-7de815ca6145",
   "metadata": {},
   "outputs": [
    {
     "name": "stdout",
     "output_type": "stream",
     "text": [
      "Set after adding elements: {1, 2, 3, 4, 5, 6}\n"
     ]
    }
   ],
   "source": [
    "# Add elements to the set using add function\n",
    "\n",
    "my_set.add(4)\n",
    "my_set.add(5)\n",
    "my_set.add(6)\n",
    "\n",
    "# Display the set\n",
    "print(\"Set after adding elements:\", my_set)"
   ]
  },
  {
   "cell_type": "code",
   "execution_count": 21,
   "id": "a4a6c4b8-0f80-4ffd-9352-752d41dae109",
   "metadata": {},
   "outputs": [
    {
     "name": "stdout",
     "output_type": "stream",
     "text": [
      "Length of the set: 6\n"
     ]
    }
   ],
   "source": [
    "# Find the length of the set\n",
    "set_length = len(my_set)\n",
    "print(\"Length of the set:\", set_length)"
   ]
  },
  {
   "cell_type": "code",
   "execution_count": 22,
   "id": "65264dfb-e3a7-4346-ac63-638d04c8095c",
   "metadata": {},
   "outputs": [
    {
     "name": "stdout",
     "output_type": "stream",
     "text": [
      "Set after updating: {1, 2, 3, 4, 5, 6, 7, 8, 9}\n"
     ]
    }
   ],
   "source": [
    "# Update the set with another set or iterable\n",
    "my_set.update([7, 8, 9])\n",
    "\n",
    "# Display the updated set\n",
    "print(\"Set after updating:\", my_set)"
   ]
  },
  {
   "cell_type": "code",
   "execution_count": 23,
   "id": "2d4085b3-1216-4330-b398-cf5562ca895f",
   "metadata": {},
   "outputs": [
    {
     "name": "stdout",
     "output_type": "stream",
     "text": [
      "Set after removing element 3: {1, 2, 4, 5, 6, 7, 8, 9}\n"
     ]
    }
   ],
   "source": [
    "# Remove an element from the set\n",
    "my_set.remove(3)\n",
    "\n",
    "# Display the set after removal\n",
    "print(\"Set after removing element 3:\", my_set)"
   ]
  },
  {
   "cell_type": "code",
   "execution_count": 24,
   "id": "8cf01272-8d31-4667-a0be-66bb3735214e",
   "metadata": {},
   "outputs": [
    {
     "name": "stdout",
     "output_type": "stream",
     "text": [
      "Set after popping element: {2, 4, 5, 6, 7, 8, 9}\n",
      "Popped element: 1\n"
     ]
    }
   ],
   "source": [
    "# Pop an arbitrary element from the set\n",
    "popped_element = my_set.pop()\n",
    "\n",
    "# Display the set after popping an element\n",
    "print(\"Set after popping element:\", my_set)\n",
    "print(\"Popped element:\", popped_element)"
   ]
  },
  {
   "cell_type": "code",
   "execution_count": 25,
   "id": "100928c8-6f62-4f2b-bc30-08a355c6468a",
   "metadata": {},
   "outputs": [
    {
     "name": "stdout",
     "output_type": "stream",
     "text": [
      "set()\n",
      "{1}\n"
     ]
    }
   ],
   "source": [
    "#Create a empty set\n",
    "empty_set=set()\n",
    "print(empty_set)\n",
    "empty_set.add(1)\n",
    "print(empty_set)"
   ]
  },
  {
   "cell_type": "markdown",
   "id": "bb4b34da-800a-4aa1-9bd1-9ea2c023a3bb",
   "metadata": {},
   "source": [
    "# Conditional Statements"
   ]
  },
  {
   "cell_type": "code",
   "execution_count": 2,
   "id": "33221349-c425-40bf-987d-4231dae20c56",
   "metadata": {},
   "outputs": [
    {
     "name": "stdout",
     "output_type": "stream",
     "text": [
      "Python  Tutorial\n"
     ]
    }
   ],
   "source": [
    "my_string='Python'\n",
    "my_list=['Datat Science', 'Machine Learning', 'Artificial Intelligence', 'Python']\n",
    "if my_string in my_list:\n",
    " print(my_string+'  Tutorial')\n"
   ]
  },
  {
   "cell_type": "code",
   "execution_count": 4,
   "id": "ef69c1c4-41d5-42cd-a6e3-0c0523bb9204",
   "metadata": {},
   "outputs": [
    {
     "name": "stdout",
     "output_type": "stream",
     "text": [
      "Right\n"
     ]
    }
   ],
   "source": [
    "languages=['Python', 'Perl', 'C#', 'Java', 'Ruby']\n",
    "if 'Python' in languages:\n",
    "     print('Right')"
   ]
  },
  {
   "cell_type": "code",
   "execution_count": 5,
   "id": "be1eca18-a46c-41d3-a063-0f32266dc27f",
   "metadata": {},
   "outputs": [
    {
     "name": "stdout",
     "output_type": "stream",
     "text": [
      "200\n",
      "X value is different from 500\n"
     ]
    }
   ],
   "source": [
    "x=200\n",
    "print(x)\n",
    "if not x==500:\n",
    "    print(\"X value is different from 500\")\n",
    "else:\n",
    "    print(\"X value is equal to 500\")"
   ]
  },
  {
   "cell_type": "code",
   "execution_count": 7,
   "id": "36f5dd00-cd08-4a0f-aaa3-a920cc8583e2",
   "metadata": {},
   "outputs": [
    {
     "name": "stdin",
     "output_type": "stream",
     "text": [
      "Enter your Userid greatlearning\n",
      "Enter the password simplelearning123\n"
     ]
    },
    {
     "name": "stdout",
     "output_type": "stream",
     "text": [
      "You have successfully logged in\n"
     ]
    }
   ],
   "source": [
    "string1=str(input(\"Enter your Userid\"))\n",
    "string2=str(input(\"Enter the password\"))\n",
    "if (string1 == \"greatlearning\" and string2== \"simplelearning123\"):\n",
    "    print(\"You have successfully logged in\")\n",
    "else:\n",
    "    print(\"Please check your userid and password\")"
   ]
  },
  {
   "cell_type": "code",
   "execution_count": 8,
   "id": "93a32029-953e-4d56-9a33-0db7f94e800d",
   "metadata": {},
   "outputs": [
    {
     "name": "stdout",
     "output_type": "stream",
     "text": [
      "Number is greater than 50\n"
     ]
    }
   ],
   "source": [
    "num=100\n",
    "if (num==0):\n",
    "    print(\"Number is equal to zero\")\n",
    "elif (num>50):\n",
    "    print(\"Number is greater than 50\")\n",
    "else:\n",
    "    print(\"Number is smaller than 50\")\n"
   ]
  },
  {
   "cell_type": "code",
   "execution_count": 11,
   "id": "bb4d02d7-bd43-47d5-aa1a-819b45d94578",
   "metadata": {},
   "outputs": [
    {
     "name": "stdin",
     "output_type": "stream",
     "text": [
      "Enter a number :  -8\n"
     ]
    },
    {
     "name": "stdout",
     "output_type": "stream",
     "text": [
      "Negative Number\n"
     ]
    }
   ],
   "source": [
    "num=float(input(\"Enter a number : \"))\n",
    "if num >=0:\n",
    "    if num==0:\n",
    "        print(\"Zero\")\n",
    "    else:\n",
    "        print(\" Positive Number \")\n",
    "else:\n",
    "    print(\"Negative Number\")"
   ]
  },
  {
   "cell_type": "markdown",
   "id": "789e2a81-60e1-48d1-b0ed-2854ddaa1443",
   "metadata": {},
   "source": [
    "# Loop Statements"
   ]
  },
  {
   "cell_type": "code",
   "execution_count": 13,
   "id": "e81cfc25-8d54-4a4f-ac33-d7db4a086193",
   "metadata": {},
   "outputs": [
    {
     "name": "stdout",
     "output_type": "stream",
     "text": [
      "The sum is  604\n"
     ]
    }
   ],
   "source": [
    "numbers=[56,45,34,78,75,89,90,92,45]\n",
    "sum=0\n",
    "for val in numbers:\n",
    "    sum=sum+val\n",
    "\n",
    "print(\"The sum is \", sum)"
   ]
  },
  {
   "cell_type": "code",
   "execution_count": 15,
   "id": "a7bf39cc-a94c-4648-9ac2-3ba639d71c19",
   "metadata": {},
   "outputs": [
    {
     "name": "stdout",
     "output_type": "stream",
     "text": [
      "The sum of first 9 integers is  45\n"
     ]
    }
   ],
   "source": [
    "a=0;\n",
    "b=0\n",
    "while (a<10):\n",
    "    b=b+a\n",
    "    a=a+1\n",
    "\n",
    "else:\n",
    "    print(\"The sum of first 9 integers is \", b)"
   ]
  },
  {
   "cell_type": "markdown",
   "id": "3b2c74b8-5f9c-45c3-a1be-b0523b97f17c",
   "metadata": {},
   "source": [
    "# Break and Continue"
   ]
  },
  {
   "cell_type": "code",
   "execution_count": 23,
   "id": "f2507e43-bba4-433b-8f18-3ad6b8da1b53",
   "metadata": {},
   "outputs": [
    {
     "name": "stdin",
     "output_type": "stream",
     "text": [
      "Enter number :  1\n",
      "Enter number :  2\n",
      "Enter number :  -3\n"
     ]
    },
    {
     "name": "stdout",
     "output_type": "stream",
     "text": [
      "Met a negative number  -3\n"
     ]
    }
   ],
   "source": [
    "for i in range(5):\n",
    "    a= int(input(\"Enter number : \"))\n",
    "    if a<0:\n",
    "        print(\"Met a negative number \",a )\n",
    "        break\n",
    "else:\n",
    "           print(\"Not met a negative number \")"
   ]
  },
  {
   "cell_type": "code",
   "execution_count": 24,
   "id": "120b450e-577f-4122-812c-0dae12d0a488",
   "metadata": {},
   "outputs": [
    {
     "name": "stdout",
     "output_type": "stream",
     "text": [
      "1 2 3 4 5 7 8 9 10 "
     ]
    }
   ],
   "source": [
    "for i in range(1,11):\n",
    "    if i==6:\n",
    "        continue\n",
    "    else:\n",
    "        print(i, end = \" \")"
   ]
  },
  {
   "cell_type": "code",
   "execution_count": 1,
   "id": "7fbe690c-9187-48f6-9fd8-ff48dd581c31",
   "metadata": {},
   "outputs": [
    {
     "name": "stdout",
     "output_type": "stream",
     "text": [
      "1\n",
      "2\n",
      "4\n",
      "5\n",
      "6\n",
      "7\n",
      "8\n",
      "9\n"
     ]
    }
   ],
   "source": [
    "i=0\n",
    "while i<9:\n",
    "    i+=1\n",
    "    if i==3:\n",
    "        continue\n",
    "    print(i)"
   ]
  }
 ],
 "metadata": {
  "kernelspec": {
   "display_name": "Python 3 (ipykernel)",
   "language": "python",
   "name": "python3"
  },
  "language_info": {
   "codemirror_mode": {
    "name": "ipython",
    "version": 3
   },
   "file_extension": ".py",
   "mimetype": "text/x-python",
   "name": "python",
   "nbconvert_exporter": "python",
   "pygments_lexer": "ipython3",
   "version": "3.11.7"
  }
 },
 "nbformat": 4,
 "nbformat_minor": 5
}
